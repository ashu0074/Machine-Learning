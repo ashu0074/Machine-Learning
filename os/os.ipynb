{
 "cells": [
  {
   "cell_type": "code",
   "execution_count": 1,
   "metadata": {},
   "outputs": [
    {
     "data": {
      "text/plain": [
       "'/home/arcgate/Desktop/Machine_learning/Practice_IMP'"
      ]
     },
     "execution_count": 1,
     "metadata": {},
     "output_type": "execute_result"
    }
   ],
   "source": [
    "import os\n",
    "os.getcwd()  #get the current working directory"
   ]
  },
  {
   "cell_type": "code",
   "execution_count": 6,
   "metadata": {},
   "outputs": [],
   "source": [
    "# mkdir -- making directory \n",
    "os.mkdir(\"/home/arcgate/Desktop/Machine_learning/example\")"
   ]
  },
  {
   "cell_type": "code",
   "execution_count": 4,
   "metadata": {},
   "outputs": [],
   "source": [
    "# change the working dir ----- \"chdir\"\n",
    "os.chdir(\"/home/arcgate/Desktop/Machine_learning/os\")"
   ]
  },
  {
   "cell_type": "code",
   "execution_count": 5,
   "metadata": {},
   "outputs": [
    {
     "data": {
      "text/plain": [
       "'/home/arcgate/Desktop/Machine_learning/os'"
      ]
     },
     "execution_count": 5,
     "metadata": {},
     "output_type": "execute_result"
    }
   ],
   "source": [
    "os.getcwd()"
   ]
  },
  {
   "cell_type": "code",
   "execution_count": 7,
   "metadata": {},
   "outputs": [],
   "source": [
    "# Remove the dir ----> rmdir\n",
    "os.rmdir(\"/home/arcgate/Desktop/Machine_learning/example\")"
   ]
  },
  {
   "cell_type": "code",
   "execution_count": 9,
   "metadata": {},
   "outputs": [
    {
     "data": {
      "text/plain": [
       "['XGBOOST_collab .ipynb',\n",
       " 'linear',\n",
       " 'logistic_regression',\n",
       " 'Text_Analysis.ipynb',\n",
       " '**CombineDataOf_DifferentData.ipynb',\n",
       " 'Datasets_Healthy_Older_People',\n",
       " 'os',\n",
       " 'Skript',\n",
       " 'Task',\n",
       " 'Combine_file',\n",
       " 'Decision_Tree',\n",
       " 'cluster',\n",
       " '.ipynb_checkpoints',\n",
       " 'Practice_IMP',\n",
       " 'sql_IMP.sql']"
      ]
     },
     "execution_count": 9,
     "metadata": {},
     "output_type": "execute_result"
    }
   ],
   "source": [
    "# list files and sub- directories ---- listdir()\n",
    "os.listdir(\"/home/arcgate/Desktop/Machine_learning\")"
   ]
  },
  {
   "cell_type": "code",
   "execution_count": null,
   "metadata": {},
   "outputs": [],
   "source": []
  }
 ],
 "metadata": {
  "kernelspec": {
   "display_name": "Python 3",
   "language": "python",
   "name": "python3"
  },
  "language_info": {
   "codemirror_mode": {
    "name": "ipython",
    "version": 3
   },
   "file_extension": ".py",
   "mimetype": "text/x-python",
   "name": "python",
   "nbconvert_exporter": "python",
   "pygments_lexer": "ipython3",
   "version": "3.6.10"
  }
 },
 "nbformat": 4,
 "nbformat_minor": 4
}
