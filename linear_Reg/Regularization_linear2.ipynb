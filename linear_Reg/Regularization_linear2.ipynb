{
 "cells": [
  {
   "cell_type": "code",
   "execution_count": 148,
   "metadata": {},
   "outputs": [],
   "source": [
    "import pandas as pd\n",
    "import numpy as np\n",
    "from sklearn.preprocessing import StandardScaler\n",
    "from sklearn.linear_model import Ridge,Lasso, RidgeCV, LassoCV, ElasticNet, ElasticNetCV, LinearRegression\n",
    "from sklearn.model_selection import train_test_split\n",
    "import statsmodels.api as sm\n",
    "import matplotlib.pyplot as plt\n",
    "import seaborn as sns\n",
    "from pandas_profiling import ProfileReport\n",
    "import pickle"
   ]
  },
  {
   "cell_type": "code",
   "execution_count": 2,
   "metadata": {},
   "outputs": [
    {
     "data": {
      "text/html": [
       "<div>\n",
       "<style scoped>\n",
       "    .dataframe tbody tr th:only-of-type {\n",
       "        vertical-align: middle;\n",
       "    }\n",
       "\n",
       "    .dataframe tbody tr th {\n",
       "        vertical-align: top;\n",
       "    }\n",
       "\n",
       "    .dataframe thead th {\n",
       "        text-align: right;\n",
       "    }\n",
       "</style>\n",
       "<table border=\"1\" class=\"dataframe\">\n",
       "  <thead>\n",
       "    <tr style=\"text-align: right;\">\n",
       "      <th></th>\n",
       "      <th>Serial No.</th>\n",
       "      <th>GRE Score</th>\n",
       "      <th>TOEFL Score</th>\n",
       "      <th>University Rating</th>\n",
       "      <th>SOP</th>\n",
       "      <th>LOR</th>\n",
       "      <th>CGPA</th>\n",
       "      <th>Research</th>\n",
       "      <th>Chance of Admit</th>\n",
       "    </tr>\n",
       "  </thead>\n",
       "  <tbody>\n",
       "    <tr>\n",
       "      <th>0</th>\n",
       "      <td>1</td>\n",
       "      <td>337.0</td>\n",
       "      <td>118.0</td>\n",
       "      <td>4.0</td>\n",
       "      <td>4.5</td>\n",
       "      <td>4.5</td>\n",
       "      <td>9.65</td>\n",
       "      <td>1</td>\n",
       "      <td>0.92</td>\n",
       "    </tr>\n",
       "    <tr>\n",
       "      <th>1</th>\n",
       "      <td>2</td>\n",
       "      <td>324.0</td>\n",
       "      <td>107.0</td>\n",
       "      <td>4.0</td>\n",
       "      <td>4.0</td>\n",
       "      <td>4.5</td>\n",
       "      <td>8.87</td>\n",
       "      <td>1</td>\n",
       "      <td>0.76</td>\n",
       "    </tr>\n",
       "    <tr>\n",
       "      <th>2</th>\n",
       "      <td>3</td>\n",
       "      <td>NaN</td>\n",
       "      <td>104.0</td>\n",
       "      <td>3.0</td>\n",
       "      <td>3.0</td>\n",
       "      <td>3.5</td>\n",
       "      <td>8.00</td>\n",
       "      <td>1</td>\n",
       "      <td>0.72</td>\n",
       "    </tr>\n",
       "    <tr>\n",
       "      <th>3</th>\n",
       "      <td>4</td>\n",
       "      <td>322.0</td>\n",
       "      <td>110.0</td>\n",
       "      <td>3.0</td>\n",
       "      <td>3.5</td>\n",
       "      <td>2.5</td>\n",
       "      <td>8.67</td>\n",
       "      <td>1</td>\n",
       "      <td>0.80</td>\n",
       "    </tr>\n",
       "    <tr>\n",
       "      <th>4</th>\n",
       "      <td>5</td>\n",
       "      <td>314.0</td>\n",
       "      <td>103.0</td>\n",
       "      <td>2.0</td>\n",
       "      <td>2.0</td>\n",
       "      <td>3.0</td>\n",
       "      <td>8.21</td>\n",
       "      <td>0</td>\n",
       "      <td>0.65</td>\n",
       "    </tr>\n",
       "    <tr>\n",
       "      <th>...</th>\n",
       "      <td>...</td>\n",
       "      <td>...</td>\n",
       "      <td>...</td>\n",
       "      <td>...</td>\n",
       "      <td>...</td>\n",
       "      <td>...</td>\n",
       "      <td>...</td>\n",
       "      <td>...</td>\n",
       "      <td>...</td>\n",
       "    </tr>\n",
       "    <tr>\n",
       "      <th>495</th>\n",
       "      <td>496</td>\n",
       "      <td>332.0</td>\n",
       "      <td>108.0</td>\n",
       "      <td>5.0</td>\n",
       "      <td>4.5</td>\n",
       "      <td>4.0</td>\n",
       "      <td>9.02</td>\n",
       "      <td>1</td>\n",
       "      <td>0.87</td>\n",
       "    </tr>\n",
       "    <tr>\n",
       "      <th>496</th>\n",
       "      <td>497</td>\n",
       "      <td>337.0</td>\n",
       "      <td>117.0</td>\n",
       "      <td>5.0</td>\n",
       "      <td>5.0</td>\n",
       "      <td>5.0</td>\n",
       "      <td>9.87</td>\n",
       "      <td>1</td>\n",
       "      <td>0.96</td>\n",
       "    </tr>\n",
       "    <tr>\n",
       "      <th>497</th>\n",
       "      <td>498</td>\n",
       "      <td>330.0</td>\n",
       "      <td>120.0</td>\n",
       "      <td>5.0</td>\n",
       "      <td>4.5</td>\n",
       "      <td>5.0</td>\n",
       "      <td>9.56</td>\n",
       "      <td>1</td>\n",
       "      <td>0.93</td>\n",
       "    </tr>\n",
       "    <tr>\n",
       "      <th>498</th>\n",
       "      <td>499</td>\n",
       "      <td>312.0</td>\n",
       "      <td>103.0</td>\n",
       "      <td>4.0</td>\n",
       "      <td>4.0</td>\n",
       "      <td>5.0</td>\n",
       "      <td>8.43</td>\n",
       "      <td>0</td>\n",
       "      <td>0.73</td>\n",
       "    </tr>\n",
       "    <tr>\n",
       "      <th>499</th>\n",
       "      <td>500</td>\n",
       "      <td>327.0</td>\n",
       "      <td>113.0</td>\n",
       "      <td>4.0</td>\n",
       "      <td>4.5</td>\n",
       "      <td>4.5</td>\n",
       "      <td>9.04</td>\n",
       "      <td>0</td>\n",
       "      <td>0.84</td>\n",
       "    </tr>\n",
       "  </tbody>\n",
       "</table>\n",
       "<p>500 rows × 9 columns</p>\n",
       "</div>"
      ],
      "text/plain": [
       "     Serial No.  GRE Score  TOEFL Score  University Rating  SOP  LOR  CGPA  \\\n",
       "0             1      337.0        118.0                4.0  4.5  4.5  9.65   \n",
       "1             2      324.0        107.0                4.0  4.0  4.5  8.87   \n",
       "2             3        NaN        104.0                3.0  3.0  3.5  8.00   \n",
       "3             4      322.0        110.0                3.0  3.5  2.5  8.67   \n",
       "4             5      314.0        103.0                2.0  2.0  3.0  8.21   \n",
       "..          ...        ...          ...                ...  ...  ...   ...   \n",
       "495         496      332.0        108.0                5.0  4.5  4.0  9.02   \n",
       "496         497      337.0        117.0                5.0  5.0  5.0  9.87   \n",
       "497         498      330.0        120.0                5.0  4.5  5.0  9.56   \n",
       "498         499      312.0        103.0                4.0  4.0  5.0  8.43   \n",
       "499         500      327.0        113.0                4.0  4.5  4.5  9.04   \n",
       "\n",
       "     Research  Chance of Admit  \n",
       "0           1             0.92  \n",
       "1           1             0.76  \n",
       "2           1             0.72  \n",
       "3           1             0.80  \n",
       "4           0             0.65  \n",
       "..        ...              ...  \n",
       "495         1             0.87  \n",
       "496         1             0.96  \n",
       "497         1             0.93  \n",
       "498         0             0.73  \n",
       "499         0             0.84  \n",
       "\n",
       "[500 rows x 9 columns]"
      ]
     },
     "execution_count": 2,
     "metadata": {},
     "output_type": "execute_result"
    }
   ],
   "source": [
    "df=pd.read_csv(\"Admission_Prediction.csv\")\n",
    "df"
   ]
  },
  {
   "cell_type": "code",
   "execution_count": 3,
   "metadata": {},
   "outputs": [],
   "source": [
    "# bulid a model and give me chancess of admission "
   ]
  },
  {
   "cell_type": "code",
   "execution_count": 4,
   "metadata": {},
   "outputs": [],
   "source": [
    "pf = ProfileReport(df)"
   ]
  },
  {
   "cell_type": "code",
   "execution_count": 5,
   "metadata": {},
   "outputs": [
    {
     "data": {
      "application/vnd.jupyter.widget-view+json": {
       "model_id": "409928056932483dabc737d4982cae88",
       "version_major": 2,
       "version_minor": 0
      },
      "text/plain": [
       "Tab(children=(HTML(value='<div id=\"overview-content\" class=\"row variable spacing\">\\n    <div class=\"row\">\\n   …"
      ]
     },
     "metadata": {},
     "output_type": "display_data"
    },
    {
     "data": {
      "text/html": [
       "Report generated with <a href=\"https://github.com/pandas-profiling/pandas-profiling\">pandas-profiling</a>."
      ],
      "text/plain": [
       "<IPython.core.display.HTML object>"
      ]
     },
     "metadata": {},
     "output_type": "display_data"
    }
   ],
   "source": [
    "pf.to_widgets()"
   ]
  },
  {
   "cell_type": "code",
   "execution_count": 6,
   "metadata": {},
   "outputs": [],
   "source": [
    "# missing cell 40 so we have to handel it\n",
    "# most of the data form the normaldistributed curve"
   ]
  },
  {
   "cell_type": "code",
   "execution_count": 7,
   "metadata": {},
   "outputs": [
    {
     "data": {
      "text/html": [
       "<div>\n",
       "<style scoped>\n",
       "    .dataframe tbody tr th:only-of-type {\n",
       "        vertical-align: middle;\n",
       "    }\n",
       "\n",
       "    .dataframe tbody tr th {\n",
       "        vertical-align: top;\n",
       "    }\n",
       "\n",
       "    .dataframe thead th {\n",
       "        text-align: right;\n",
       "    }\n",
       "</style>\n",
       "<table border=\"1\" class=\"dataframe\">\n",
       "  <thead>\n",
       "    <tr style=\"text-align: right;\">\n",
       "      <th></th>\n",
       "      <th>Serial_No.</th>\n",
       "      <th>GRE_Score</th>\n",
       "      <th>TOEFL_Score</th>\n",
       "      <th>University_Rating</th>\n",
       "      <th>SOP</th>\n",
       "      <th>LOR</th>\n",
       "      <th>CGPA</th>\n",
       "      <th>Research</th>\n",
       "      <th>Chance_of_Admit</th>\n",
       "    </tr>\n",
       "  </thead>\n",
       "  <tbody>\n",
       "    <tr>\n",
       "      <th>0</th>\n",
       "      <td>1</td>\n",
       "      <td>337.0</td>\n",
       "      <td>118.0</td>\n",
       "      <td>4.0</td>\n",
       "      <td>4.5</td>\n",
       "      <td>4.5</td>\n",
       "      <td>9.65</td>\n",
       "      <td>1</td>\n",
       "      <td>0.92</td>\n",
       "    </tr>\n",
       "    <tr>\n",
       "      <th>1</th>\n",
       "      <td>2</td>\n",
       "      <td>324.0</td>\n",
       "      <td>107.0</td>\n",
       "      <td>4.0</td>\n",
       "      <td>4.0</td>\n",
       "      <td>4.5</td>\n",
       "      <td>8.87</td>\n",
       "      <td>1</td>\n",
       "      <td>0.76</td>\n",
       "    </tr>\n",
       "    <tr>\n",
       "      <th>2</th>\n",
       "      <td>3</td>\n",
       "      <td>NaN</td>\n",
       "      <td>104.0</td>\n",
       "      <td>3.0</td>\n",
       "      <td>3.0</td>\n",
       "      <td>3.5</td>\n",
       "      <td>8.00</td>\n",
       "      <td>1</td>\n",
       "      <td>0.72</td>\n",
       "    </tr>\n",
       "    <tr>\n",
       "      <th>3</th>\n",
       "      <td>4</td>\n",
       "      <td>322.0</td>\n",
       "      <td>110.0</td>\n",
       "      <td>3.0</td>\n",
       "      <td>3.5</td>\n",
       "      <td>2.5</td>\n",
       "      <td>8.67</td>\n",
       "      <td>1</td>\n",
       "      <td>0.80</td>\n",
       "    </tr>\n",
       "    <tr>\n",
       "      <th>4</th>\n",
       "      <td>5</td>\n",
       "      <td>314.0</td>\n",
       "      <td>103.0</td>\n",
       "      <td>2.0</td>\n",
       "      <td>2.0</td>\n",
       "      <td>3.0</td>\n",
       "      <td>8.21</td>\n",
       "      <td>0</td>\n",
       "      <td>0.65</td>\n",
       "    </tr>\n",
       "    <tr>\n",
       "      <th>...</th>\n",
       "      <td>...</td>\n",
       "      <td>...</td>\n",
       "      <td>...</td>\n",
       "      <td>...</td>\n",
       "      <td>...</td>\n",
       "      <td>...</td>\n",
       "      <td>...</td>\n",
       "      <td>...</td>\n",
       "      <td>...</td>\n",
       "    </tr>\n",
       "    <tr>\n",
       "      <th>495</th>\n",
       "      <td>496</td>\n",
       "      <td>332.0</td>\n",
       "      <td>108.0</td>\n",
       "      <td>5.0</td>\n",
       "      <td>4.5</td>\n",
       "      <td>4.0</td>\n",
       "      <td>9.02</td>\n",
       "      <td>1</td>\n",
       "      <td>0.87</td>\n",
       "    </tr>\n",
       "    <tr>\n",
       "      <th>496</th>\n",
       "      <td>497</td>\n",
       "      <td>337.0</td>\n",
       "      <td>117.0</td>\n",
       "      <td>5.0</td>\n",
       "      <td>5.0</td>\n",
       "      <td>5.0</td>\n",
       "      <td>9.87</td>\n",
       "      <td>1</td>\n",
       "      <td>0.96</td>\n",
       "    </tr>\n",
       "    <tr>\n",
       "      <th>497</th>\n",
       "      <td>498</td>\n",
       "      <td>330.0</td>\n",
       "      <td>120.0</td>\n",
       "      <td>5.0</td>\n",
       "      <td>4.5</td>\n",
       "      <td>5.0</td>\n",
       "      <td>9.56</td>\n",
       "      <td>1</td>\n",
       "      <td>0.93</td>\n",
       "    </tr>\n",
       "    <tr>\n",
       "      <th>498</th>\n",
       "      <td>499</td>\n",
       "      <td>312.0</td>\n",
       "      <td>103.0</td>\n",
       "      <td>4.0</td>\n",
       "      <td>4.0</td>\n",
       "      <td>5.0</td>\n",
       "      <td>8.43</td>\n",
       "      <td>0</td>\n",
       "      <td>0.73</td>\n",
       "    </tr>\n",
       "    <tr>\n",
       "      <th>499</th>\n",
       "      <td>500</td>\n",
       "      <td>327.0</td>\n",
       "      <td>113.0</td>\n",
       "      <td>4.0</td>\n",
       "      <td>4.5</td>\n",
       "      <td>4.5</td>\n",
       "      <td>9.04</td>\n",
       "      <td>0</td>\n",
       "      <td>0.84</td>\n",
       "    </tr>\n",
       "  </tbody>\n",
       "</table>\n",
       "<p>500 rows × 9 columns</p>\n",
       "</div>"
      ],
      "text/plain": [
       "     Serial_No.  GRE_Score  TOEFL_Score  University_Rating  SOP  LOR  CGPA  \\\n",
       "0             1      337.0        118.0                4.0  4.5  4.5  9.65   \n",
       "1             2      324.0        107.0                4.0  4.0  4.5  8.87   \n",
       "2             3        NaN        104.0                3.0  3.0  3.5  8.00   \n",
       "3             4      322.0        110.0                3.0  3.5  2.5  8.67   \n",
       "4             5      314.0        103.0                2.0  2.0  3.0  8.21   \n",
       "..          ...        ...          ...                ...  ...  ...   ...   \n",
       "495         496      332.0        108.0                5.0  4.5  4.0  9.02   \n",
       "496         497      337.0        117.0                5.0  5.0  5.0  9.87   \n",
       "497         498      330.0        120.0                5.0  4.5  5.0  9.56   \n",
       "498         499      312.0        103.0                4.0  4.0  5.0  8.43   \n",
       "499         500      327.0        113.0                4.0  4.5  4.5  9.04   \n",
       "\n",
       "     Research  Chance_of_Admit  \n",
       "0           1             0.92  \n",
       "1           1             0.76  \n",
       "2           1             0.72  \n",
       "3           1             0.80  \n",
       "4           0             0.65  \n",
       "..        ...              ...  \n",
       "495         1             0.87  \n",
       "496         1             0.96  \n",
       "497         1             0.93  \n",
       "498         0             0.73  \n",
       "499         0             0.84  \n",
       "\n",
       "[500 rows x 9 columns]"
      ]
     },
     "execution_count": 7,
     "metadata": {},
     "output_type": "execute_result"
    }
   ],
   "source": [
    "df"
   ]
  },
  {
   "cell_type": "code",
   "execution_count": 8,
   "metadata": {},
   "outputs": [],
   "source": [
    "# handel the missing value\n",
    "df[\"GRE_Score\"] = df[\"GRE_Score\"].fillna(df[\"GRE_Score\"].mean())"
   ]
  },
  {
   "cell_type": "code",
   "execution_count": 9,
   "metadata": {},
   "outputs": [],
   "source": [
    "df[\"TOEFL_Score\"] = df[\"TOEFL_Score\"].fillna(df[\"TOEFL_Score\"].mean())"
   ]
  },
  {
   "cell_type": "code",
   "execution_count": 10,
   "metadata": {},
   "outputs": [],
   "source": [
    "df[\"University_Rating\"] = df[\"University_Rating\"].fillna(df[\"University_Rating\"].mean())"
   ]
  },
  {
   "cell_type": "code",
   "execution_count": 11,
   "metadata": {},
   "outputs": [
    {
     "data": {
      "text/html": [
       "<div>\n",
       "<style scoped>\n",
       "    .dataframe tbody tr th:only-of-type {\n",
       "        vertical-align: middle;\n",
       "    }\n",
       "\n",
       "    .dataframe tbody tr th {\n",
       "        vertical-align: top;\n",
       "    }\n",
       "\n",
       "    .dataframe thead th {\n",
       "        text-align: right;\n",
       "    }\n",
       "</style>\n",
       "<table border=\"1\" class=\"dataframe\">\n",
       "  <thead>\n",
       "    <tr style=\"text-align: right;\">\n",
       "      <th></th>\n",
       "      <th>Serial_No.</th>\n",
       "      <th>GRE_Score</th>\n",
       "      <th>TOEFL_Score</th>\n",
       "      <th>University_Rating</th>\n",
       "      <th>SOP</th>\n",
       "      <th>LOR</th>\n",
       "      <th>CGPA</th>\n",
       "      <th>Research</th>\n",
       "      <th>Chance_of_Admit</th>\n",
       "    </tr>\n",
       "  </thead>\n",
       "  <tbody>\n",
       "    <tr>\n",
       "      <th>count</th>\n",
       "      <td>500.000000</td>\n",
       "      <td>500.000000</td>\n",
       "      <td>500.000000</td>\n",
       "      <td>500.000000</td>\n",
       "      <td>500.000000</td>\n",
       "      <td>500.00000</td>\n",
       "      <td>500.000000</td>\n",
       "      <td>500.000000</td>\n",
       "      <td>500.00000</td>\n",
       "    </tr>\n",
       "    <tr>\n",
       "      <th>mean</th>\n",
       "      <td>250.500000</td>\n",
       "      <td>316.558763</td>\n",
       "      <td>107.187755</td>\n",
       "      <td>3.121649</td>\n",
       "      <td>3.374000</td>\n",
       "      <td>3.48400</td>\n",
       "      <td>8.576440</td>\n",
       "      <td>0.560000</td>\n",
       "      <td>0.72174</td>\n",
       "    </tr>\n",
       "    <tr>\n",
       "      <th>std</th>\n",
       "      <td>144.481833</td>\n",
       "      <td>11.103952</td>\n",
       "      <td>6.051338</td>\n",
       "      <td>1.128802</td>\n",
       "      <td>0.991004</td>\n",
       "      <td>0.92545</td>\n",
       "      <td>0.604813</td>\n",
       "      <td>0.496884</td>\n",
       "      <td>0.14114</td>\n",
       "    </tr>\n",
       "    <tr>\n",
       "      <th>min</th>\n",
       "      <td>1.000000</td>\n",
       "      <td>290.000000</td>\n",
       "      <td>92.000000</td>\n",
       "      <td>1.000000</td>\n",
       "      <td>1.000000</td>\n",
       "      <td>1.00000</td>\n",
       "      <td>6.800000</td>\n",
       "      <td>0.000000</td>\n",
       "      <td>0.34000</td>\n",
       "    </tr>\n",
       "    <tr>\n",
       "      <th>25%</th>\n",
       "      <td>125.750000</td>\n",
       "      <td>309.000000</td>\n",
       "      <td>103.000000</td>\n",
       "      <td>2.000000</td>\n",
       "      <td>2.500000</td>\n",
       "      <td>3.00000</td>\n",
       "      <td>8.127500</td>\n",
       "      <td>0.000000</td>\n",
       "      <td>0.63000</td>\n",
       "    </tr>\n",
       "    <tr>\n",
       "      <th>50%</th>\n",
       "      <td>250.500000</td>\n",
       "      <td>316.558763</td>\n",
       "      <td>107.000000</td>\n",
       "      <td>3.000000</td>\n",
       "      <td>3.500000</td>\n",
       "      <td>3.50000</td>\n",
       "      <td>8.560000</td>\n",
       "      <td>1.000000</td>\n",
       "      <td>0.72000</td>\n",
       "    </tr>\n",
       "    <tr>\n",
       "      <th>75%</th>\n",
       "      <td>375.250000</td>\n",
       "      <td>324.000000</td>\n",
       "      <td>112.000000</td>\n",
       "      <td>4.000000</td>\n",
       "      <td>4.000000</td>\n",
       "      <td>4.00000</td>\n",
       "      <td>9.040000</td>\n",
       "      <td>1.000000</td>\n",
       "      <td>0.82000</td>\n",
       "    </tr>\n",
       "    <tr>\n",
       "      <th>max</th>\n",
       "      <td>500.000000</td>\n",
       "      <td>340.000000</td>\n",
       "      <td>120.000000</td>\n",
       "      <td>5.000000</td>\n",
       "      <td>5.000000</td>\n",
       "      <td>5.00000</td>\n",
       "      <td>9.920000</td>\n",
       "      <td>1.000000</td>\n",
       "      <td>0.97000</td>\n",
       "    </tr>\n",
       "  </tbody>\n",
       "</table>\n",
       "</div>"
      ],
      "text/plain": [
       "       Serial_No.   GRE_Score  TOEFL_Score  University_Rating         SOP  \\\n",
       "count  500.000000  500.000000   500.000000         500.000000  500.000000   \n",
       "mean   250.500000  316.558763   107.187755           3.121649    3.374000   \n",
       "std    144.481833   11.103952     6.051338           1.128802    0.991004   \n",
       "min      1.000000  290.000000    92.000000           1.000000    1.000000   \n",
       "25%    125.750000  309.000000   103.000000           2.000000    2.500000   \n",
       "50%    250.500000  316.558763   107.000000           3.000000    3.500000   \n",
       "75%    375.250000  324.000000   112.000000           4.000000    4.000000   \n",
       "max    500.000000  340.000000   120.000000           5.000000    5.000000   \n",
       "\n",
       "             LOR        CGPA    Research  Chance_of_Admit  \n",
       "count  500.00000  500.000000  500.000000        500.00000  \n",
       "mean     3.48400    8.576440    0.560000          0.72174  \n",
       "std      0.92545    0.604813    0.496884          0.14114  \n",
       "min      1.00000    6.800000    0.000000          0.34000  \n",
       "25%      3.00000    8.127500    0.000000          0.63000  \n",
       "50%      3.50000    8.560000    1.000000          0.72000  \n",
       "75%      4.00000    9.040000    1.000000          0.82000  \n",
       "max      5.00000    9.920000    1.000000          0.97000  "
      ]
     },
     "execution_count": 11,
     "metadata": {},
     "output_type": "execute_result"
    }
   ],
   "source": [
    "df.describe()"
   ]
  },
  {
   "cell_type": "code",
   "execution_count": 123,
   "metadata": {},
   "outputs": [
    {
     "data": {
      "text/plain": [
       "GRE_Score            0\n",
       "TOEFL_Score          0\n",
       "University_Rating    0\n",
       "SOP                  0\n",
       "LOR                  0\n",
       "CGPA                 0\n",
       "Research             0\n",
       "Chance_of_Admit      0\n",
       "dtype: int64"
      ]
     },
     "execution_count": 123,
     "metadata": {},
     "output_type": "execute_result"
    }
   ],
   "source": [
    "# now all value fill \n",
    "df.isnull().sum()"
   ]
  },
  {
   "cell_type": "raw",
   "metadata": {},
   "source": [
    "Drop the columns\n",
    "In case Serial_no. is no need to use"
   ]
  },
  {
   "cell_type": "code",
   "execution_count": 13,
   "metadata": {},
   "outputs": [],
   "source": [
    "df.drop(columns=[\"Serial_No.\"],inplace=True)"
   ]
  },
  {
   "cell_type": "markdown",
   "metadata": {},
   "source": [
    "## Normalize technique \n",
    "standard scaler\n",
    "dataset vary far so we not bring down dataset into lower scale so it will tough for my model to understand relation"
   ]
  },
  {
   "cell_type": "raw",
   "metadata": {},
   "source": [
    "Z-statistics\n",
    "z=(x-u)/s       (Data-avg)/standard_deviation"
   ]
  },
  {
   "cell_type": "markdown",
   "metadata": {},
   "source": [
    "#### Standard Scaler:- \n",
    "u = 0 (mean) and standard deviation =1"
   ]
  },
  {
   "cell_type": "code",
   "execution_count": 14,
   "metadata": {},
   "outputs": [],
   "source": [
    "# now seperate the col-- feature(x1,x2x,x3....) and label(y)\n",
    "y= df[\"Chance_of_Admit\"]"
   ]
  },
  {
   "cell_type": "code",
   "execution_count": 15,
   "metadata": {},
   "outputs": [],
   "source": [
    "x= df.drop(columns=[\"Chance_of_Admit\"])"
   ]
  },
  {
   "cell_type": "code",
   "execution_count": 16,
   "metadata": {},
   "outputs": [
    {
     "data": {
      "text/html": [
       "<div>\n",
       "<style scoped>\n",
       "    .dataframe tbody tr th:only-of-type {\n",
       "        vertical-align: middle;\n",
       "    }\n",
       "\n",
       "    .dataframe tbody tr th {\n",
       "        vertical-align: top;\n",
       "    }\n",
       "\n",
       "    .dataframe thead th {\n",
       "        text-align: right;\n",
       "    }\n",
       "</style>\n",
       "<table border=\"1\" class=\"dataframe\">\n",
       "  <thead>\n",
       "    <tr style=\"text-align: right;\">\n",
       "      <th></th>\n",
       "      <th>GRE_Score</th>\n",
       "      <th>TOEFL_Score</th>\n",
       "      <th>University_Rating</th>\n",
       "      <th>SOP</th>\n",
       "      <th>LOR</th>\n",
       "      <th>CGPA</th>\n",
       "      <th>Research</th>\n",
       "    </tr>\n",
       "  </thead>\n",
       "  <tbody>\n",
       "    <tr>\n",
       "      <th>0</th>\n",
       "      <td>337.000000</td>\n",
       "      <td>118.0</td>\n",
       "      <td>4.0</td>\n",
       "      <td>4.5</td>\n",
       "      <td>4.5</td>\n",
       "      <td>9.65</td>\n",
       "      <td>1</td>\n",
       "    </tr>\n",
       "    <tr>\n",
       "      <th>1</th>\n",
       "      <td>324.000000</td>\n",
       "      <td>107.0</td>\n",
       "      <td>4.0</td>\n",
       "      <td>4.0</td>\n",
       "      <td>4.5</td>\n",
       "      <td>8.87</td>\n",
       "      <td>1</td>\n",
       "    </tr>\n",
       "    <tr>\n",
       "      <th>2</th>\n",
       "      <td>316.558763</td>\n",
       "      <td>104.0</td>\n",
       "      <td>3.0</td>\n",
       "      <td>3.0</td>\n",
       "      <td>3.5</td>\n",
       "      <td>8.00</td>\n",
       "      <td>1</td>\n",
       "    </tr>\n",
       "    <tr>\n",
       "      <th>3</th>\n",
       "      <td>322.000000</td>\n",
       "      <td>110.0</td>\n",
       "      <td>3.0</td>\n",
       "      <td>3.5</td>\n",
       "      <td>2.5</td>\n",
       "      <td>8.67</td>\n",
       "      <td>1</td>\n",
       "    </tr>\n",
       "    <tr>\n",
       "      <th>4</th>\n",
       "      <td>314.000000</td>\n",
       "      <td>103.0</td>\n",
       "      <td>2.0</td>\n",
       "      <td>2.0</td>\n",
       "      <td>3.0</td>\n",
       "      <td>8.21</td>\n",
       "      <td>0</td>\n",
       "    </tr>\n",
       "    <tr>\n",
       "      <th>...</th>\n",
       "      <td>...</td>\n",
       "      <td>...</td>\n",
       "      <td>...</td>\n",
       "      <td>...</td>\n",
       "      <td>...</td>\n",
       "      <td>...</td>\n",
       "      <td>...</td>\n",
       "    </tr>\n",
       "    <tr>\n",
       "      <th>495</th>\n",
       "      <td>332.000000</td>\n",
       "      <td>108.0</td>\n",
       "      <td>5.0</td>\n",
       "      <td>4.5</td>\n",
       "      <td>4.0</td>\n",
       "      <td>9.02</td>\n",
       "      <td>1</td>\n",
       "    </tr>\n",
       "    <tr>\n",
       "      <th>496</th>\n",
       "      <td>337.000000</td>\n",
       "      <td>117.0</td>\n",
       "      <td>5.0</td>\n",
       "      <td>5.0</td>\n",
       "      <td>5.0</td>\n",
       "      <td>9.87</td>\n",
       "      <td>1</td>\n",
       "    </tr>\n",
       "    <tr>\n",
       "      <th>497</th>\n",
       "      <td>330.000000</td>\n",
       "      <td>120.0</td>\n",
       "      <td>5.0</td>\n",
       "      <td>4.5</td>\n",
       "      <td>5.0</td>\n",
       "      <td>9.56</td>\n",
       "      <td>1</td>\n",
       "    </tr>\n",
       "    <tr>\n",
       "      <th>498</th>\n",
       "      <td>312.000000</td>\n",
       "      <td>103.0</td>\n",
       "      <td>4.0</td>\n",
       "      <td>4.0</td>\n",
       "      <td>5.0</td>\n",
       "      <td>8.43</td>\n",
       "      <td>0</td>\n",
       "    </tr>\n",
       "    <tr>\n",
       "      <th>499</th>\n",
       "      <td>327.000000</td>\n",
       "      <td>113.0</td>\n",
       "      <td>4.0</td>\n",
       "      <td>4.5</td>\n",
       "      <td>4.5</td>\n",
       "      <td>9.04</td>\n",
       "      <td>0</td>\n",
       "    </tr>\n",
       "  </tbody>\n",
       "</table>\n",
       "<p>500 rows × 7 columns</p>\n",
       "</div>"
      ],
      "text/plain": [
       "      GRE_Score  TOEFL_Score  University_Rating  SOP  LOR  CGPA  Research\n",
       "0    337.000000        118.0                4.0  4.5  4.5  9.65         1\n",
       "1    324.000000        107.0                4.0  4.0  4.5  8.87         1\n",
       "2    316.558763        104.0                3.0  3.0  3.5  8.00         1\n",
       "3    322.000000        110.0                3.0  3.5  2.5  8.67         1\n",
       "4    314.000000        103.0                2.0  2.0  3.0  8.21         0\n",
       "..          ...          ...                ...  ...  ...   ...       ...\n",
       "495  332.000000        108.0                5.0  4.5  4.0  9.02         1\n",
       "496  337.000000        117.0                5.0  5.0  5.0  9.87         1\n",
       "497  330.000000        120.0                5.0  4.5  5.0  9.56         1\n",
       "498  312.000000        103.0                4.0  4.0  5.0  8.43         0\n",
       "499  327.000000        113.0                4.0  4.5  4.5  9.04         0\n",
       "\n",
       "[500 rows x 7 columns]"
      ]
     },
     "execution_count": 16,
     "metadata": {},
     "output_type": "execute_result"
    }
   ],
   "source": [
    "x"
   ]
  },
  {
   "cell_type": "code",
   "execution_count": 17,
   "metadata": {},
   "outputs": [
    {
     "data": {
      "text/plain": [
       "0      0.92\n",
       "1      0.76\n",
       "2      0.72\n",
       "3      0.80\n",
       "4      0.65\n",
       "       ... \n",
       "495    0.87\n",
       "496    0.96\n",
       "497    0.93\n",
       "498    0.73\n",
       "499    0.84\n",
       "Name: Chance_of_Admit, Length: 500, dtype: float64"
      ]
     },
     "execution_count": 17,
     "metadata": {},
     "output_type": "execute_result"
    }
   ],
   "source": [
    "y"
   ]
  },
  {
   "cell_type": "code",
   "execution_count": 18,
   "metadata": {},
   "outputs": [],
   "source": [
    "scaler = StandardScaler()"
   ]
  },
  {
   "cell_type": "code",
   "execution_count": 19,
   "metadata": {},
   "outputs": [],
   "source": [
    "arr = scaler.fit_transform(x)"
   ]
  },
  {
   "cell_type": "code",
   "execution_count": 20,
   "metadata": {},
   "outputs": [
    {
     "data": {
      "text/plain": [
       "array([[ 1.84274116e+00,  1.78854223e+00,  7.78905651e-01, ...,\n",
       "         1.09894429e+00,  1.77680627e+00,  8.86405260e-01],\n",
       "       [ 6.70814288e-01, -3.10581135e-02,  7.78905651e-01, ...,\n",
       "         1.09894429e+00,  4.85859428e-01,  8.86405260e-01],\n",
       "       [ 5.12433309e-15, -5.27312752e-01, -1.07876604e-01, ...,\n",
       "         1.73062093e-02, -9.54042814e-01,  8.86405260e-01],\n",
       "       ...,\n",
       "       [ 1.21170361e+00,  2.11937866e+00,  1.66568791e+00, ...,\n",
       "         1.63976333e+00,  1.62785086e+00,  8.86405260e-01],\n",
       "       [-4.10964364e-01, -6.92730965e-01,  7.78905651e-01, ...,\n",
       "         1.63976333e+00, -2.42366993e-01, -1.12815215e+00],\n",
       "       [ 9.41258951e-01,  9.61451165e-01,  7.78905651e-01, ...,\n",
       "         1.09894429e+00,  7.67219636e-01, -1.12815215e+00]])"
      ]
     },
     "execution_count": 20,
     "metadata": {},
     "output_type": "execute_result"
    }
   ],
   "source": [
    "arr"
   ]
  },
  {
   "cell_type": "code",
   "execution_count": 21,
   "metadata": {},
   "outputs": [],
   "source": [
    "df1= pd.DataFrame(arr)"
   ]
  },
  {
   "cell_type": "code",
   "execution_count": 30,
   "metadata": {},
   "outputs": [
    {
     "data": {
      "text/html": [
       "<div>\n",
       "<style scoped>\n",
       "    .dataframe tbody tr th:only-of-type {\n",
       "        vertical-align: middle;\n",
       "    }\n",
       "\n",
       "    .dataframe tbody tr th {\n",
       "        vertical-align: top;\n",
       "    }\n",
       "\n",
       "    .dataframe thead th {\n",
       "        text-align: right;\n",
       "    }\n",
       "</style>\n",
       "<table border=\"1\" class=\"dataframe\">\n",
       "  <thead>\n",
       "    <tr style=\"text-align: right;\">\n",
       "      <th></th>\n",
       "      <th>0</th>\n",
       "      <th>1</th>\n",
       "      <th>2</th>\n",
       "      <th>3</th>\n",
       "      <th>4</th>\n",
       "      <th>5</th>\n",
       "      <th>6</th>\n",
       "    </tr>\n",
       "  </thead>\n",
       "  <tbody>\n",
       "    <tr>\n",
       "      <th>0</th>\n",
       "      <td>1.842741e+00</td>\n",
       "      <td>1.788542</td>\n",
       "      <td>0.778906</td>\n",
       "      <td>1.137360</td>\n",
       "      <td>1.098944</td>\n",
       "      <td>1.776806</td>\n",
       "      <td>0.886405</td>\n",
       "    </tr>\n",
       "    <tr>\n",
       "      <th>1</th>\n",
       "      <td>6.708143e-01</td>\n",
       "      <td>-0.031058</td>\n",
       "      <td>0.778906</td>\n",
       "      <td>0.632315</td>\n",
       "      <td>1.098944</td>\n",
       "      <td>0.485859</td>\n",
       "      <td>0.886405</td>\n",
       "    </tr>\n",
       "    <tr>\n",
       "      <th>2</th>\n",
       "      <td>5.124333e-15</td>\n",
       "      <td>-0.527313</td>\n",
       "      <td>-0.107877</td>\n",
       "      <td>-0.377773</td>\n",
       "      <td>0.017306</td>\n",
       "      <td>-0.954043</td>\n",
       "      <td>0.886405</td>\n",
       "    </tr>\n",
       "    <tr>\n",
       "      <th>3</th>\n",
       "      <td>4.905178e-01</td>\n",
       "      <td>0.465197</td>\n",
       "      <td>-0.107877</td>\n",
       "      <td>0.127271</td>\n",
       "      <td>-1.064332</td>\n",
       "      <td>0.154847</td>\n",
       "      <td>0.886405</td>\n",
       "    </tr>\n",
       "    <tr>\n",
       "      <th>4</th>\n",
       "      <td>-2.306679e-01</td>\n",
       "      <td>-0.692731</td>\n",
       "      <td>-0.994659</td>\n",
       "      <td>-1.387862</td>\n",
       "      <td>-0.523513</td>\n",
       "      <td>-0.606480</td>\n",
       "      <td>-1.128152</td>\n",
       "    </tr>\n",
       "    <tr>\n",
       "      <th>...</th>\n",
       "      <td>...</td>\n",
       "      <td>...</td>\n",
       "      <td>...</td>\n",
       "      <td>...</td>\n",
       "      <td>...</td>\n",
       "      <td>...</td>\n",
       "      <td>...</td>\n",
       "    </tr>\n",
       "    <tr>\n",
       "      <th>495</th>\n",
       "      <td>1.392000e+00</td>\n",
       "      <td>0.134360</td>\n",
       "      <td>1.665688</td>\n",
       "      <td>1.137360</td>\n",
       "      <td>0.558125</td>\n",
       "      <td>0.734118</td>\n",
       "      <td>0.886405</td>\n",
       "    </tr>\n",
       "    <tr>\n",
       "      <th>496</th>\n",
       "      <td>1.842741e+00</td>\n",
       "      <td>1.623124</td>\n",
       "      <td>1.665688</td>\n",
       "      <td>1.642404</td>\n",
       "      <td>1.639763</td>\n",
       "      <td>2.140919</td>\n",
       "      <td>0.886405</td>\n",
       "    </tr>\n",
       "    <tr>\n",
       "      <th>497</th>\n",
       "      <td>1.211704e+00</td>\n",
       "      <td>2.119379</td>\n",
       "      <td>1.665688</td>\n",
       "      <td>1.137360</td>\n",
       "      <td>1.639763</td>\n",
       "      <td>1.627851</td>\n",
       "      <td>0.886405</td>\n",
       "    </tr>\n",
       "    <tr>\n",
       "      <th>498</th>\n",
       "      <td>-4.109644e-01</td>\n",
       "      <td>-0.692731</td>\n",
       "      <td>0.778906</td>\n",
       "      <td>0.632315</td>\n",
       "      <td>1.639763</td>\n",
       "      <td>-0.242367</td>\n",
       "      <td>-1.128152</td>\n",
       "    </tr>\n",
       "    <tr>\n",
       "      <th>499</th>\n",
       "      <td>9.412590e-01</td>\n",
       "      <td>0.961451</td>\n",
       "      <td>0.778906</td>\n",
       "      <td>1.137360</td>\n",
       "      <td>1.098944</td>\n",
       "      <td>0.767220</td>\n",
       "      <td>-1.128152</td>\n",
       "    </tr>\n",
       "  </tbody>\n",
       "</table>\n",
       "<p>500 rows × 7 columns</p>\n",
       "</div>"
      ],
      "text/plain": [
       "                0         1         2         3         4         5         6\n",
       "0    1.842741e+00  1.788542  0.778906  1.137360  1.098944  1.776806  0.886405\n",
       "1    6.708143e-01 -0.031058  0.778906  0.632315  1.098944  0.485859  0.886405\n",
       "2    5.124333e-15 -0.527313 -0.107877 -0.377773  0.017306 -0.954043  0.886405\n",
       "3    4.905178e-01  0.465197 -0.107877  0.127271 -1.064332  0.154847  0.886405\n",
       "4   -2.306679e-01 -0.692731 -0.994659 -1.387862 -0.523513 -0.606480 -1.128152\n",
       "..            ...       ...       ...       ...       ...       ...       ...\n",
       "495  1.392000e+00  0.134360  1.665688  1.137360  0.558125  0.734118  0.886405\n",
       "496  1.842741e+00  1.623124  1.665688  1.642404  1.639763  2.140919  0.886405\n",
       "497  1.211704e+00  2.119379  1.665688  1.137360  1.639763  1.627851  0.886405\n",
       "498 -4.109644e-01 -0.692731  0.778906  0.632315  1.639763 -0.242367 -1.128152\n",
       "499  9.412590e-01  0.961451  0.778906  1.137360  1.098944  0.767220 -1.128152\n",
       "\n",
       "[500 rows x 7 columns]"
      ]
     },
     "execution_count": 30,
     "metadata": {},
     "output_type": "execute_result"
    }
   ],
   "source": [
    "df1"
   ]
  },
  {
   "cell_type": "code",
   "execution_count": 35,
   "metadata": {},
   "outputs": [
    {
     "data": {
      "text/html": [
       "<div>\n",
       "<style scoped>\n",
       "    .dataframe tbody tr th:only-of-type {\n",
       "        vertical-align: middle;\n",
       "    }\n",
       "\n",
       "    .dataframe tbody tr th {\n",
       "        vertical-align: top;\n",
       "    }\n",
       "\n",
       "    .dataframe thead th {\n",
       "        text-align: right;\n",
       "    }\n",
       "</style>\n",
       "<table border=\"1\" class=\"dataframe\">\n",
       "  <thead>\n",
       "    <tr style=\"text-align: right;\">\n",
       "      <th></th>\n",
       "      <th>GRE_Score</th>\n",
       "      <th>TOEFL_Score</th>\n",
       "      <th>University_Rating</th>\n",
       "      <th>SOP</th>\n",
       "      <th>LOR</th>\n",
       "      <th>CGPA</th>\n",
       "      <th>Research</th>\n",
       "      <th>Chance_of_Admit</th>\n",
       "    </tr>\n",
       "  </thead>\n",
       "  <tbody>\n",
       "    <tr>\n",
       "      <th>0</th>\n",
       "      <td>337.000000</td>\n",
       "      <td>118.0</td>\n",
       "      <td>4.0</td>\n",
       "      <td>4.5</td>\n",
       "      <td>4.5</td>\n",
       "      <td>9.65</td>\n",
       "      <td>1</td>\n",
       "      <td>0.92</td>\n",
       "    </tr>\n",
       "    <tr>\n",
       "      <th>1</th>\n",
       "      <td>324.000000</td>\n",
       "      <td>107.0</td>\n",
       "      <td>4.0</td>\n",
       "      <td>4.0</td>\n",
       "      <td>4.5</td>\n",
       "      <td>8.87</td>\n",
       "      <td>1</td>\n",
       "      <td>0.76</td>\n",
       "    </tr>\n",
       "    <tr>\n",
       "      <th>2</th>\n",
       "      <td>316.558763</td>\n",
       "      <td>104.0</td>\n",
       "      <td>3.0</td>\n",
       "      <td>3.0</td>\n",
       "      <td>3.5</td>\n",
       "      <td>8.00</td>\n",
       "      <td>1</td>\n",
       "      <td>0.72</td>\n",
       "    </tr>\n",
       "    <tr>\n",
       "      <th>3</th>\n",
       "      <td>322.000000</td>\n",
       "      <td>110.0</td>\n",
       "      <td>3.0</td>\n",
       "      <td>3.5</td>\n",
       "      <td>2.5</td>\n",
       "      <td>8.67</td>\n",
       "      <td>1</td>\n",
       "      <td>0.80</td>\n",
       "    </tr>\n",
       "    <tr>\n",
       "      <th>4</th>\n",
       "      <td>314.000000</td>\n",
       "      <td>103.0</td>\n",
       "      <td>2.0</td>\n",
       "      <td>2.0</td>\n",
       "      <td>3.0</td>\n",
       "      <td>8.21</td>\n",
       "      <td>0</td>\n",
       "      <td>0.65</td>\n",
       "    </tr>\n",
       "    <tr>\n",
       "      <th>...</th>\n",
       "      <td>...</td>\n",
       "      <td>...</td>\n",
       "      <td>...</td>\n",
       "      <td>...</td>\n",
       "      <td>...</td>\n",
       "      <td>...</td>\n",
       "      <td>...</td>\n",
       "      <td>...</td>\n",
       "    </tr>\n",
       "    <tr>\n",
       "      <th>495</th>\n",
       "      <td>332.000000</td>\n",
       "      <td>108.0</td>\n",
       "      <td>5.0</td>\n",
       "      <td>4.5</td>\n",
       "      <td>4.0</td>\n",
       "      <td>9.02</td>\n",
       "      <td>1</td>\n",
       "      <td>0.87</td>\n",
       "    </tr>\n",
       "    <tr>\n",
       "      <th>496</th>\n",
       "      <td>337.000000</td>\n",
       "      <td>117.0</td>\n",
       "      <td>5.0</td>\n",
       "      <td>5.0</td>\n",
       "      <td>5.0</td>\n",
       "      <td>9.87</td>\n",
       "      <td>1</td>\n",
       "      <td>0.96</td>\n",
       "    </tr>\n",
       "    <tr>\n",
       "      <th>497</th>\n",
       "      <td>330.000000</td>\n",
       "      <td>120.0</td>\n",
       "      <td>5.0</td>\n",
       "      <td>4.5</td>\n",
       "      <td>5.0</td>\n",
       "      <td>9.56</td>\n",
       "      <td>1</td>\n",
       "      <td>0.93</td>\n",
       "    </tr>\n",
       "    <tr>\n",
       "      <th>498</th>\n",
       "      <td>312.000000</td>\n",
       "      <td>103.0</td>\n",
       "      <td>4.0</td>\n",
       "      <td>4.0</td>\n",
       "      <td>5.0</td>\n",
       "      <td>8.43</td>\n",
       "      <td>0</td>\n",
       "      <td>0.73</td>\n",
       "    </tr>\n",
       "    <tr>\n",
       "      <th>499</th>\n",
       "      <td>327.000000</td>\n",
       "      <td>113.0</td>\n",
       "      <td>4.0</td>\n",
       "      <td>4.5</td>\n",
       "      <td>4.5</td>\n",
       "      <td>9.04</td>\n",
       "      <td>0</td>\n",
       "      <td>0.84</td>\n",
       "    </tr>\n",
       "  </tbody>\n",
       "</table>\n",
       "<p>500 rows × 8 columns</p>\n",
       "</div>"
      ],
      "text/plain": [
       "      GRE_Score  TOEFL_Score  University_Rating  SOP  LOR  CGPA  Research  \\\n",
       "0    337.000000        118.0                4.0  4.5  4.5  9.65         1   \n",
       "1    324.000000        107.0                4.0  4.0  4.5  8.87         1   \n",
       "2    316.558763        104.0                3.0  3.0  3.5  8.00         1   \n",
       "3    322.000000        110.0                3.0  3.5  2.5  8.67         1   \n",
       "4    314.000000        103.0                2.0  2.0  3.0  8.21         0   \n",
       "..          ...          ...                ...  ...  ...   ...       ...   \n",
       "495  332.000000        108.0                5.0  4.5  4.0  9.02         1   \n",
       "496  337.000000        117.0                5.0  5.0  5.0  9.87         1   \n",
       "497  330.000000        120.0                5.0  4.5  5.0  9.56         1   \n",
       "498  312.000000        103.0                4.0  4.0  5.0  8.43         0   \n",
       "499  327.000000        113.0                4.0  4.5  4.5  9.04         0   \n",
       "\n",
       "     Chance_of_Admit  \n",
       "0               0.92  \n",
       "1               0.76  \n",
       "2               0.72  \n",
       "3               0.80  \n",
       "4               0.65  \n",
       "..               ...  \n",
       "495             0.87  \n",
       "496             0.96  \n",
       "497             0.93  \n",
       "498             0.73  \n",
       "499             0.84  \n",
       "\n",
       "[500 rows x 8 columns]"
      ]
     },
     "execution_count": 35,
     "metadata": {},
     "output_type": "execute_result"
    }
   ],
   "source": [
    "# now we see mean = 0 for every dataset --- standard deviation\n",
    "df"
   ]
  },
  {
   "cell_type": "code",
   "execution_count": 38,
   "metadata": {},
   "outputs": [
    {
     "data": {
      "text/html": [
       "<div>\n",
       "<style scoped>\n",
       "    .dataframe tbody tr th:only-of-type {\n",
       "        vertical-align: middle;\n",
       "    }\n",
       "\n",
       "    .dataframe tbody tr th {\n",
       "        vertical-align: top;\n",
       "    }\n",
       "\n",
       "    .dataframe thead th {\n",
       "        text-align: right;\n",
       "    }\n",
       "</style>\n",
       "<table border=\"1\" class=\"dataframe\">\n",
       "  <thead>\n",
       "    <tr style=\"text-align: right;\">\n",
       "      <th></th>\n",
       "      <th>0</th>\n",
       "      <th>1</th>\n",
       "      <th>2</th>\n",
       "      <th>3</th>\n",
       "      <th>4</th>\n",
       "      <th>5</th>\n",
       "      <th>6</th>\n",
       "    </tr>\n",
       "  </thead>\n",
       "  <tbody>\n",
       "    <tr>\n",
       "      <th>count</th>\n",
       "      <td>5.000000e+02</td>\n",
       "      <td>5.000000e+02</td>\n",
       "      <td>5.000000e+02</td>\n",
       "      <td>5.000000e+02</td>\n",
       "      <td>5.000000e+02</td>\n",
       "      <td>5.000000e+02</td>\n",
       "      <td>5.000000e+02</td>\n",
       "    </tr>\n",
       "    <tr>\n",
       "      <th>mean</th>\n",
       "      <td>4.350520e-15</td>\n",
       "      <td>9.419132e-16</td>\n",
       "      <td>5.608847e-16</td>\n",
       "      <td>2.926548e-16</td>\n",
       "      <td>-1.332268e-17</td>\n",
       "      <td>3.091971e-15</td>\n",
       "      <td>-2.202682e-16</td>\n",
       "    </tr>\n",
       "    <tr>\n",
       "      <th>std</th>\n",
       "      <td>1.001002e+00</td>\n",
       "      <td>1.001002e+00</td>\n",
       "      <td>1.001002e+00</td>\n",
       "      <td>1.001002e+00</td>\n",
       "      <td>1.001002e+00</td>\n",
       "      <td>1.001002e+00</td>\n",
       "      <td>1.001002e+00</td>\n",
       "    </tr>\n",
       "    <tr>\n",
       "      <th>min</th>\n",
       "      <td>-2.394225e+00</td>\n",
       "      <td>-2.512331e+00</td>\n",
       "      <td>-1.881441e+00</td>\n",
       "      <td>-2.397950e+00</td>\n",
       "      <td>-2.686789e+00</td>\n",
       "      <td>-2.940115e+00</td>\n",
       "      <td>-1.128152e+00</td>\n",
       "    </tr>\n",
       "    <tr>\n",
       "      <th>25%</th>\n",
       "      <td>-6.814090e-01</td>\n",
       "      <td>-6.927310e-01</td>\n",
       "      <td>-9.946589e-01</td>\n",
       "      <td>-8.828175e-01</td>\n",
       "      <td>-5.235128e-01</td>\n",
       "      <td>-7.430227e-01</td>\n",
       "      <td>-1.128152e+00</td>\n",
       "    </tr>\n",
       "    <tr>\n",
       "      <th>50%</th>\n",
       "      <td>5.124333e-15</td>\n",
       "      <td>-3.105811e-02</td>\n",
       "      <td>-1.078766e-01</td>\n",
       "      <td>1.272712e-01</td>\n",
       "      <td>1.730621e-02</td>\n",
       "      <td>-2.720919e-02</td>\n",
       "      <td>8.864053e-01</td>\n",
       "    </tr>\n",
       "    <tr>\n",
       "      <th>75%</th>\n",
       "      <td>6.708143e-01</td>\n",
       "      <td>7.960330e-01</td>\n",
       "      <td>7.789057e-01</td>\n",
       "      <td>6.323155e-01</td>\n",
       "      <td>5.581253e-01</td>\n",
       "      <td>7.672196e-01</td>\n",
       "      <td>8.864053e-01</td>\n",
       "    </tr>\n",
       "    <tr>\n",
       "      <th>max</th>\n",
       "      <td>2.113186e+00</td>\n",
       "      <td>2.119379e+00</td>\n",
       "      <td>1.665688e+00</td>\n",
       "      <td>1.642404e+00</td>\n",
       "      <td>1.639763e+00</td>\n",
       "      <td>2.223672e+00</td>\n",
       "      <td>8.864053e-01</td>\n",
       "    </tr>\n",
       "  </tbody>\n",
       "</table>\n",
       "</div>"
      ],
      "text/plain": [
       "                  0             1             2             3             4  \\\n",
       "count  5.000000e+02  5.000000e+02  5.000000e+02  5.000000e+02  5.000000e+02   \n",
       "mean   4.350520e-15  9.419132e-16  5.608847e-16  2.926548e-16 -1.332268e-17   \n",
       "std    1.001002e+00  1.001002e+00  1.001002e+00  1.001002e+00  1.001002e+00   \n",
       "min   -2.394225e+00 -2.512331e+00 -1.881441e+00 -2.397950e+00 -2.686789e+00   \n",
       "25%   -6.814090e-01 -6.927310e-01 -9.946589e-01 -8.828175e-01 -5.235128e-01   \n",
       "50%    5.124333e-15 -3.105811e-02 -1.078766e-01  1.272712e-01  1.730621e-02   \n",
       "75%    6.708143e-01  7.960330e-01  7.789057e-01  6.323155e-01  5.581253e-01   \n",
       "max    2.113186e+00  2.119379e+00  1.665688e+00  1.642404e+00  1.639763e+00   \n",
       "\n",
       "                  5             6  \n",
       "count  5.000000e+02  5.000000e+02  \n",
       "mean   3.091971e-15 -2.202682e-16  \n",
       "std    1.001002e+00  1.001002e+00  \n",
       "min   -2.940115e+00 -1.128152e+00  \n",
       "25%   -7.430227e-01 -1.128152e+00  \n",
       "50%   -2.720919e-02  8.864053e-01  \n",
       "75%    7.672196e-01  8.864053e-01  \n",
       "max    2.223672e+00  8.864053e-01  "
      ]
     },
     "execution_count": 38,
     "metadata": {},
     "output_type": "execute_result"
    }
   ],
   "source": [
    "df1.describe()"
   ]
  },
  {
   "cell_type": "markdown",
   "metadata": {},
   "source": [
    "## Multicollinearity\n",
    "1) Pearson plot\n",
    "2) VIF \n",
    "\n",
    "vif=(1/1-R^2)\n",
    "**vif>10 highly collinearity"
   ]
  },
  {
   "cell_type": "code",
   "execution_count": 39,
   "metadata": {},
   "outputs": [],
   "source": [
    "# VIF\n",
    "from statsmodels.stats.outliers_influence import variance_inflation_factor"
   ]
  },
  {
   "cell_type": "code",
   "execution_count": 41,
   "metadata": {},
   "outputs": [
    {
     "ename": "TypeError",
     "evalue": "variance_inflation_factor() missing 2 required positional arguments: 'exog' and 'exog_idx'",
     "output_type": "error",
     "traceback": [
      "\u001b[0;31m---------------------------------------------------------------------------\u001b[0m",
      "\u001b[0;31mTypeError\u001b[0m                                 Traceback (most recent call last)",
      "\u001b[0;32m<ipython-input-41-f953f8891c81>\u001b[0m in \u001b[0;36m<module>\u001b[0;34m\u001b[0m\n\u001b[0;32m----> 1\u001b[0;31m \u001b[0mvariance_inflation_factor\u001b[0m\u001b[0;34m(\u001b[0m\u001b[0;34m)\u001b[0m   \u001b[0;31m# it take x value and index of it\u001b[0m\u001b[0;34m\u001b[0m\u001b[0;34m\u001b[0m\u001b[0m\n\u001b[0m",
      "\u001b[0;31mTypeError\u001b[0m: variance_inflation_factor() missing 2 required positional arguments: 'exog' and 'exog_idx'"
     ]
    }
   ],
   "source": [
    "variance_inflation_factor()   # it take x value and index of it"
   ]
  },
  {
   "cell_type": "code",
   "execution_count": 42,
   "metadata": {},
   "outputs": [
    {
     "data": {
      "text/plain": [
       "(500, 7)"
      ]
     },
     "execution_count": 42,
     "metadata": {},
     "output_type": "execute_result"
    }
   ],
   "source": [
    "arr.shape"
   ]
  },
  {
   "cell_type": "code",
   "execution_count": 44,
   "metadata": {},
   "outputs": [
    {
     "data": {
      "text/plain": [
       "7"
      ]
     },
     "execution_count": 44,
     "metadata": {},
     "output_type": "execute_result"
    }
   ],
   "source": [
    "# in case there shape{row=0,col=1}\n",
    "arr.shape[1]"
   ]
  },
  {
   "cell_type": "code",
   "execution_count": 47,
   "metadata": {},
   "outputs": [],
   "source": [
    "# now create new data frame to store the variance_inflation\n",
    "vif_df = pd.DataFrame()"
   ]
  },
  {
   "cell_type": "code",
   "execution_count": 48,
   "metadata": {},
   "outputs": [],
   "source": [
    "vif_df[\"vif\"]=[variance_inflation_factor(arr,i) for i in range (arr.shape[1])]\n",
    "    "
   ]
  },
  {
   "cell_type": "code",
   "execution_count": 46,
   "metadata": {},
   "outputs": [],
   "source": [
    "# this are variance inflation factor for the each of the col \n",
    "# vif <10 so there is less collinearity\n",
    "# so we suppose that drop any col and call the demonstrated reduction technique over here \"pca \" or \"tsne\" in particular place"
   ]
  },
  {
   "cell_type": "code",
   "execution_count": 49,
   "metadata": {},
   "outputs": [
    {
     "data": {
      "text/html": [
       "<div>\n",
       "<style scoped>\n",
       "    .dataframe tbody tr th:only-of-type {\n",
       "        vertical-align: middle;\n",
       "    }\n",
       "\n",
       "    .dataframe tbody tr th {\n",
       "        vertical-align: top;\n",
       "    }\n",
       "\n",
       "    .dataframe thead th {\n",
       "        text-align: right;\n",
       "    }\n",
       "</style>\n",
       "<table border=\"1\" class=\"dataframe\">\n",
       "  <thead>\n",
       "    <tr style=\"text-align: right;\">\n",
       "      <th></th>\n",
       "      <th>vif</th>\n",
       "    </tr>\n",
       "  </thead>\n",
       "  <tbody>\n",
       "    <tr>\n",
       "      <th>0</th>\n",
       "      <td>4.153268</td>\n",
       "    </tr>\n",
       "    <tr>\n",
       "      <th>1</th>\n",
       "      <td>3.792866</td>\n",
       "    </tr>\n",
       "    <tr>\n",
       "      <th>2</th>\n",
       "      <td>2.508768</td>\n",
       "    </tr>\n",
       "    <tr>\n",
       "      <th>3</th>\n",
       "      <td>2.775750</td>\n",
       "    </tr>\n",
       "    <tr>\n",
       "      <th>4</th>\n",
       "      <td>2.037308</td>\n",
       "    </tr>\n",
       "    <tr>\n",
       "      <th>5</th>\n",
       "      <td>4.651670</td>\n",
       "    </tr>\n",
       "    <tr>\n",
       "      <th>6</th>\n",
       "      <td>1.459311</td>\n",
       "    </tr>\n",
       "  </tbody>\n",
       "</table>\n",
       "</div>"
      ],
      "text/plain": [
       "        vif\n",
       "0  4.153268\n",
       "1  3.792866\n",
       "2  2.508768\n",
       "3  2.775750\n",
       "4  2.037308\n",
       "5  4.651670\n",
       "6  1.459311"
      ]
     },
     "execution_count": 49,
     "metadata": {},
     "output_type": "execute_result"
    }
   ],
   "source": [
    "vif_df"
   ]
  },
  {
   "cell_type": "code",
   "execution_count": 50,
   "metadata": {},
   "outputs": [],
   "source": [
    "# now add the feature col in it\n",
    "vif_df[\"feature\"] = x.columns"
   ]
  },
  {
   "cell_type": "code",
   "execution_count": 51,
   "metadata": {},
   "outputs": [
    {
     "data": {
      "text/html": [
       "<div>\n",
       "<style scoped>\n",
       "    .dataframe tbody tr th:only-of-type {\n",
       "        vertical-align: middle;\n",
       "    }\n",
       "\n",
       "    .dataframe tbody tr th {\n",
       "        vertical-align: top;\n",
       "    }\n",
       "\n",
       "    .dataframe thead th {\n",
       "        text-align: right;\n",
       "    }\n",
       "</style>\n",
       "<table border=\"1\" class=\"dataframe\">\n",
       "  <thead>\n",
       "    <tr style=\"text-align: right;\">\n",
       "      <th></th>\n",
       "      <th>vif</th>\n",
       "      <th>feature</th>\n",
       "    </tr>\n",
       "  </thead>\n",
       "  <tbody>\n",
       "    <tr>\n",
       "      <th>0</th>\n",
       "      <td>4.153268</td>\n",
       "      <td>GRE_Score</td>\n",
       "    </tr>\n",
       "    <tr>\n",
       "      <th>1</th>\n",
       "      <td>3.792866</td>\n",
       "      <td>TOEFL_Score</td>\n",
       "    </tr>\n",
       "    <tr>\n",
       "      <th>2</th>\n",
       "      <td>2.508768</td>\n",
       "      <td>University_Rating</td>\n",
       "    </tr>\n",
       "    <tr>\n",
       "      <th>3</th>\n",
       "      <td>2.775750</td>\n",
       "      <td>SOP</td>\n",
       "    </tr>\n",
       "    <tr>\n",
       "      <th>4</th>\n",
       "      <td>2.037308</td>\n",
       "      <td>LOR</td>\n",
       "    </tr>\n",
       "    <tr>\n",
       "      <th>5</th>\n",
       "      <td>4.651670</td>\n",
       "      <td>CGPA</td>\n",
       "    </tr>\n",
       "    <tr>\n",
       "      <th>6</th>\n",
       "      <td>1.459311</td>\n",
       "      <td>Research</td>\n",
       "    </tr>\n",
       "  </tbody>\n",
       "</table>\n",
       "</div>"
      ],
      "text/plain": [
       "        vif            feature\n",
       "0  4.153268          GRE_Score\n",
       "1  3.792866        TOEFL_Score\n",
       "2  2.508768  University_Rating\n",
       "3  2.775750                SOP\n",
       "4  2.037308                LOR\n",
       "5  4.651670               CGPA\n",
       "6  1.459311           Research"
      ]
     },
     "execution_count": 51,
     "metadata": {},
     "output_type": "execute_result"
    }
   ],
   "source": [
    "vif_df"
   ]
  },
  {
   "cell_type": "markdown",
   "metadata": {},
   "source": [
    "## Train-Test\n",
    "spit data into training and testing"
   ]
  },
  {
   "cell_type": "code",
   "execution_count": 52,
   "metadata": {},
   "outputs": [
    {
     "data": {
      "text/plain": [
       "[array([[ 8.51110730e-01,  7.96032952e-01,  7.78905651e-01, ...,\n",
       "          1.73062093e-02,  8.99624440e-01,  8.86405260e-01],\n",
       "        [-5.01112585e-01, -3.61894539e-01, -1.07876604e-01, ...,\n",
       "         -5.23512832e-01, -2.09265793e-01,  8.86405260e-01],\n",
       "        [-2.30667922e-01,  0.00000000e+00,  7.78905651e-01, ...,\n",
       "          5.58125251e-01,  3.20353423e-01,  8.86405260e-01],\n",
       "        ...,\n",
       "        [-1.49274302e+00, -1.18898560e+00,  3.93810431e-16, ...,\n",
       "          1.73062093e-02, -5.23727202e-01, -1.12815215e+00],\n",
       "        [-5.91260806e-01, -8.58149178e-01, -1.07876604e-01, ...,\n",
       "          5.58125251e-01, -9.20941613e-01,  8.86405260e-01],\n",
       "        [ 5.80666067e-01,  4.65196526e-01,  1.66568791e+00, ...,\n",
       "          1.63976333e+00,  6.67916033e-01,  8.86405260e-01]]),\n",
       " array([[-5.01112585e-01, -3.10581135e-02,  7.78905651e-01,\n",
       "          1.13735981e+00,  1.09894429e+00,  7.01017234e-01,\n",
       "          8.86405260e-01],\n",
       "        [ 5.80666067e-01,  9.61451165e-01, -1.07876604e-01,\n",
       "          6.32315491e-01, -5.23512832e-01,  1.23063645e+00,\n",
       "          8.86405260e-01],\n",
       "        [ 1.21170361e+00,  1.45770580e+00,  7.78905651e-01,\n",
       "          6.32315491e-01,  1.73062093e-02,  1.08168105e+00,\n",
       "          8.86405260e-01],\n",
       "        [ 4.90517846e-01, -3.61894539e-01, -9.94658860e-01,\n",
       "         -3.77773152e-01, -5.23512832e-01, -2.09265793e-01,\n",
       "          8.86405260e-01],\n",
       "        [-1.04200191e+00, -6.92730965e-01, -9.94658860e-01,\n",
       "         -8.82817474e-01,  1.73062093e-02, -7.38885008e-01,\n",
       "         -1.12815215e+00],\n",
       "        [-5.03714802e-02, -1.35440382e+00, -9.94658860e-01,\n",
       "         -8.82817474e-01, -5.23512832e-01,  7.01017234e-01,\n",
       "         -1.12815215e+00],\n",
       "        [ 4.00369625e-01, -8.58149178e-01, -1.07876604e-01,\n",
       "          1.27271169e-01,  5.58125251e-01,  7.17567835e-01,\n",
       "          8.86405260e-01],\n",
       "        [-1.49274302e+00, -3.61894539e-01, -1.88144112e+00,\n",
       "         -2.39795044e+00, -1.60515091e+00, -1.28505482e+00,\n",
       "         -1.12815215e+00],\n",
       "        [ 3.10221404e-01, -5.27312752e-01, -1.07876604e-01,\n",
       "         -3.77773152e-01,  1.73062093e-02,  2.70701621e-01,\n",
       "          8.86405260e-01],\n",
       "        [-1.04200191e+00,  1.34360100e-01,  1.66568791e+00,\n",
       "         -3.77773152e-01, -5.23512832e-01, -1.59613991e-01,\n",
       "         -1.12815215e+00],\n",
       "        [ 1.03140717e+00,  4.65196526e-01,  7.78905651e-01,\n",
       "          1.64240413e+00,  5.58125251e-01,  9.32725641e-01,\n",
       "          8.86405260e-01],\n",
       "        [ 2.20073183e-01, -6.92730965e-01,  3.93810431e-16,\n",
       "          1.13735981e+00,  1.73062093e-02,  1.38296818e-01,\n",
       "         -1.12815215e+00],\n",
       "        [ 4.90517846e-01,  0.00000000e+00,  7.78905651e-01,\n",
       "          6.32315491e-01,  1.63976333e+00,  9.16175040e-01,\n",
       "          8.86405260e-01],\n",
       "        [-1.94348412e+00, -2.34691310e+00, -1.88144112e+00,\n",
       "         -1.38786180e+00, -1.60515091e+00, -2.27809085e+00,\n",
       "         -1.12815215e+00],\n",
       "        [ 6.70814288e-01,  6.30614739e-01, -1.07876604e-01,\n",
       "         -8.82817474e-01, -1.60515091e+00,  3.70005224e-01,\n",
       "          8.86405260e-01],\n",
       "        [-5.91260806e-01, -1.02356739e+00, -1.07876604e-01,\n",
       "          1.27271169e-01,  1.63976333e+00,  1.21746217e-01,\n",
       "          8.86405260e-01],\n",
       "        [ 8.51110730e-01,  4.65196526e-01, -1.07876604e-01,\n",
       "          1.27271169e-01,  1.73062093e-02,  3.03802822e-01,\n",
       "          8.86405260e-01],\n",
       "        [-5.01112585e-01, -1.51982203e+00, -1.88144112e+00,\n",
       "         -2.39795044e+00, -1.06433187e+00, -1.84777524e+00,\n",
       "         -1.12815215e+00],\n",
       "        [-8.61705469e-01,  1.34360100e-01, -9.94658860e-01,\n",
       "          6.32315491e-01,  1.73062093e-02, -1.45056083e+00,\n",
       "         -1.12815215e+00],\n",
       "        [ 1.21170361e+00,  1.12686938e+00, -1.07876604e-01,\n",
       "          1.13735981e+00,  1.09894429e+00,  1.09823165e+00,\n",
       "          8.86405260e-01],\n",
       "        [ 7.60962509e-01,  4.65196526e-01,  7.78905651e-01,\n",
       "          1.13735981e+00,  5.58125251e-01,  6.34814832e-01,\n",
       "          8.86405260e-01],\n",
       "        [-1.04200191e+00, -1.85065846e+00,  7.78905651e-01,\n",
       "         -3.77773152e-01,  1.09894429e+00, -5.23727202e-01,\n",
       "         -1.12815215e+00],\n",
       "        [-4.10964364e-01, -5.27312752e-01, -1.07876604e-01,\n",
       "          1.27271169e-01,  1.73062093e-02, -2.58917594e-01,\n",
       "         -1.12815215e+00],\n",
       "        [-1.67303946e+00, -1.68524024e+00,  3.93810431e-16,\n",
       "         -1.38786180e+00, -5.23512832e-01, -2.26154025e+00,\n",
       "         -1.12815215e+00],\n",
       "        [-1.94348412e+00, -1.35440382e+00, -1.88144112e+00,\n",
       "         -1.38786180e+00, -2.14596996e+00, -1.66571863e+00,\n",
       "         -1.12815215e+00],\n",
       "        [ 1.12155539e+00,  6.30614739e-01,  7.78905651e-01,\n",
       "          1.13735981e+00,  5.58125251e-01,  1.08168105e+00,\n",
       "          8.86405260e-01],\n",
       "        [-1.13215013e+00, -1.18898560e+00, -9.94658860e-01,\n",
       "         -8.82817474e-01,  1.73062093e-02, -8.38188611e-01,\n",
       "         -1.12815215e+00],\n",
       "        [-2.30667922e-01, -3.61894539e-01, -1.07876604e-01,\n",
       "          1.27271169e-01, -1.06433187e+00, -4.57524800e-01,\n",
       "         -1.12815215e+00],\n",
       "        [-5.91260806e-01, -3.10581135e-02, -1.07876604e-01,\n",
       "          1.27271169e-01,  1.73062093e-02,  1.54847418e-01,\n",
       "         -1.12815215e+00],\n",
       "        [-1.13215013e+00, -3.61894539e-01, -1.88144112e+00,\n",
       "         -3.77773152e-01, -2.14596996e+00, -1.78157284e+00,\n",
       "         -1.12815215e+00],\n",
       "        [-8.61705469e-01,  4.65196526e-01,  7.78905651e-01,\n",
       "          6.32315491e-01,  1.09894429e+00, -3.41670596e-01,\n",
       "         -1.12815215e+00],\n",
       "        [-1.40519701e-01, -1.35440382e+00, -9.94658860e-01,\n",
       "          1.27271169e-01, -5.23512832e-01, -1.13609942e+00,\n",
       "         -1.12815215e+00],\n",
       "        [-1.40259480e+00, -1.68524024e+00, -9.94658860e-01,\n",
       "         -3.77773152e-01, -5.23512832e-01, -1.15265002e+00,\n",
       "          8.86405260e-01],\n",
       "        [ 6.70814288e-01, -3.10581135e-02,  1.66568791e+00,\n",
       "          1.27271169e-01,  5.58125251e-01,  1.38296818e-01,\n",
       "          8.86405260e-01],\n",
       "        [-5.01112585e-01, -5.27312752e-01, -1.07876604e-01,\n",
       "          1.13735981e+00,  1.09894429e+00, -2.42366993e-01,\n",
       "         -1.12815215e+00],\n",
       "        [ 1.57229650e+00,  1.45770580e+00,  7.78905651e-01,\n",
       "          6.32315491e-01,  1.73062093e-02,  1.59474966e+00,\n",
       "          8.86405260e-01],\n",
       "        [ 3.10221404e-01, -5.27312752e-01, -1.07876604e-01,\n",
       "          1.27271169e-01,  1.09894429e+00, -3.91322398e-01,\n",
       "          8.86405260e-01],\n",
       "        [ 4.90517846e-01, -6.92730965e-01,  7.78905651e-01,\n",
       "         -3.77773152e-01, -1.06433187e+00, -9.20941613e-01,\n",
       "          8.86405260e-01],\n",
       "        [ 5.80666067e-01,  6.30614739e-01,  1.66568791e+00,\n",
       "          6.32315491e-01,  1.63976333e+00,  2.12436888e+00,\n",
       "          8.86405260e-01],\n",
       "        [-1.22229835e+00, -3.61894539e-01,  1.66568791e+00,\n",
       "          1.64240413e+00,  1.09894429e+00,  1.21746217e-01,\n",
       "         -1.12815215e+00],\n",
       "        [-4.10964364e-01, -1.51982203e+00, -1.88144112e+00,\n",
       "          1.27271169e-01, -5.23512832e-01, -6.56132006e-01,\n",
       "          8.86405260e-01],\n",
       "        [ 3.97767408e-02, -1.96476326e-01, -1.88144112e+00,\n",
       "         -1.89290612e+00,  1.73062093e-02, -1.53331383e+00,\n",
       "          8.86405260e-01],\n",
       "        [ 1.66244472e+00,  1.62312402e+00,  1.66568791e+00,\n",
       "          1.64240413e+00,  1.63976333e+00,  2.05816647e+00,\n",
       "          8.86405260e-01],\n",
       "        [-5.01112585e-01, -5.27312752e-01, -1.07876604e-01,\n",
       "          6.32315491e-01,  1.73062093e-02, -7.38885008e-01,\n",
       "          8.86405260e-01],\n",
       "        [ 5.12433309e-15,  7.96032952e-01,  7.78905651e-01,\n",
       "          6.32315491e-01,  1.09894429e+00,  8.66523239e-01,\n",
       "          8.86405260e-01],\n",
       "        [ 4.00369625e-01,  1.12686938e+00,  7.78905651e-01,\n",
       "          6.32315491e-01,  1.63976333e+00,  8.99624440e-01,\n",
       "         -1.12815215e+00],\n",
       "        [ 6.70814288e-01,  4.65196526e-01,  7.78905651e-01,\n",
       "          1.13735981e+00,  5.58125251e-01,  9.49276241e-01,\n",
       "          8.86405260e-01],\n",
       "        [ 5.12433309e-15,  1.95396044e+00,  1.66568791e+00,\n",
       "          1.64240413e+00,  1.09894429e+00,  1.85955927e+00,\n",
       "          8.86405260e-01],\n",
       "        [ 1.66244472e+00,  1.62312402e+00,  1.66568791e+00,\n",
       "          1.64240413e+00,  1.63976333e+00,  1.62785086e+00,\n",
       "          8.86405260e-01],\n",
       "        [ 1.29924962e-01,  2.99778313e-01, -1.88144112e+00,\n",
       "          1.27271169e-01,  1.73062093e-02,  8.99624440e-01,\n",
       "         -1.12815215e+00],\n",
       "        [ 1.29924962e-01, -6.92730965e-01, -1.07876604e-01,\n",
       "          6.32315491e-01,  1.09894429e+00, -1.43063391e-01,\n",
       "          8.86405260e-01],\n",
       "        [ 1.12155539e+00,  1.12686938e+00,  1.66568791e+00,\n",
       "          6.32315491e-01,  1.63976333e+00,  1.19753525e+00,\n",
       "          8.86405260e-01],\n",
       "        [-8.61705469e-01,  2.99778313e-01, -1.07876604e-01,\n",
       "          6.32315491e-01, -5.23512832e-01, -9.54042814e-01,\n",
       "          8.86405260e-01],\n",
       "        [ 1.12155539e+00,  4.65196526e-01, -9.94658860e-01,\n",
       "          6.32315491e-01, -5.23512832e-01,  9.49276241e-01,\n",
       "          8.86405260e-01],\n",
       "        [ 7.60962509e-01,  4.65196526e-01, -9.94658860e-01,\n",
       "         -3.77773152e-01, -1.06433187e+00,  3.03802822e-01,\n",
       "          8.86405260e-01],\n",
       "        [-1.58289124e+00, -2.18149488e+00, -1.88144112e+00,\n",
       "         -2.39795044e+00, -2.68678900e+00, -2.04638245e+00,\n",
       "         -1.12815215e+00],\n",
       "        [-1.58289124e+00, -1.85065846e+00, -9.94658860e-01,\n",
       "         -1.89290612e+00, -1.60515091e+00, -1.18575122e+00,\n",
       "         -1.12815215e+00],\n",
       "        [-5.91260806e-01, -1.35440382e+00, -9.94658860e-01,\n",
       "         -1.89290612e+00, -1.60515091e+00, -2.11258485e+00,\n",
       "         -1.12815215e+00],\n",
       "        [-1.31244657e+00, -1.35440382e+00, -9.94658860e-01,\n",
       "         -2.39795044e+00, -1.60515091e+00, -1.00369462e+00,\n",
       "         -1.12815215e+00],\n",
       "        [ 5.12433309e-15, -8.58149178e-01, -9.94658860e-01,\n",
       "         -3.77773152e-01,  5.58125251e-01,  2.54151021e-01,\n",
       "         -1.12815215e+00],\n",
       "        [-1.49274302e+00, -1.51982203e+00, -1.88144112e+00,\n",
       "         -1.38786180e+00, -1.06433187e+00, -9.20941613e-01,\n",
       "         -1.12815215e+00],\n",
       "        [-4.10964364e-01,  2.99778313e-01, -9.94658860e-01,\n",
       "         -8.82817474e-01,  5.58125251e-01,  7.34118435e-01,\n",
       "         -1.12815215e+00],\n",
       "        [-1.85333590e+00, -1.35440382e+00, -9.94658860e-01,\n",
       "         -8.82817474e-01, -1.06433187e+00, -9.04391013e-01,\n",
       "         -1.12815215e+00],\n",
       "        [-5.03714802e-02, -1.96476326e-01, -9.94658860e-01,\n",
       "         -8.82817474e-01,  5.58125251e-01, -4.24423599e-01,\n",
       "         -1.12815215e+00],\n",
       "        [-1.49274302e+00, -1.18898560e+00, -1.07876604e-01,\n",
       "         -1.38786180e+00, -5.23512832e-01,  1.38296818e-01,\n",
       "          8.86405260e-01],\n",
       "        [-1.67303946e+00, -1.35440382e+00, -1.88144112e+00,\n",
       "         -1.89290612e+00, -5.23512832e-01, -1.84777524e+00,\n",
       "         -1.12815215e+00],\n",
       "        [ 1.12155539e+00,  6.30614739e-01,  7.78905651e-01,\n",
       "          1.13735981e+00,  5.58125251e-01,  7.17567835e-01,\n",
       "          8.86405260e-01],\n",
       "        [-1.31244657e+00, -1.35440382e+00, -1.88144112e+00,\n",
       "         -1.38786180e+00, -1.60515091e+00, -2.19533785e+00,\n",
       "         -1.12815215e+00],\n",
       "        [-7.71557248e-01, -5.27312752e-01,  3.93810431e-16,\n",
       "         -8.82817474e-01, -5.23512832e-01, -8.38188611e-01,\n",
       "         -1.12815215e+00],\n",
       "        [-1.76318768e+00, -1.02356739e+00, -1.07876604e-01,\n",
       "         -1.38786180e+00,  5.58125251e-01, -1.50021263e+00,\n",
       "          8.86405260e-01],\n",
       "        [-3.20816143e-01, -1.96476326e-01, -9.94658860e-01,\n",
       "         -8.82817474e-01, -1.60515091e+00, -2.42366993e-01,\n",
       "         -1.12815215e+00],\n",
       "        [-4.10964364e-01, -6.92730965e-01,  7.78905651e-01,\n",
       "          6.32315491e-01,  1.63976333e+00, -2.42366993e-01,\n",
       "         -1.12815215e+00],\n",
       "        [-1.31244657e+00, -8.58149178e-01, -1.88144112e+00,\n",
       "         -1.38786180e+00, -2.14596996e+00, -9.54042814e-01,\n",
       "         -1.12815215e+00],\n",
       "        [ 8.51110730e-01,  1.34360100e-01, -1.07876604e-01,\n",
       "         -3.77773152e-01,  1.73062093e-02,  5.18960629e-01,\n",
       "         -1.12815215e+00],\n",
       "        [-1.40519701e-01, -3.10581135e-02, -9.94658860e-01,\n",
       "          6.32315491e-01, -5.23512832e-01, -1.26512790e-01,\n",
       "          8.86405260e-01],\n",
       "        [ 1.30185183e+00,  7.96032952e-01,  1.66568791e+00,\n",
       "          6.32315491e-01,  1.63976333e+00,  2.02506527e+00,\n",
       "          8.86405260e-01],\n",
       "        [-1.85333590e+00, -1.68524024e+00, -9.94658860e-01,\n",
       "         -1.89290612e+00, -1.60515091e+00, -1.28505482e+00,\n",
       "         -1.12815215e+00],\n",
       "        [-1.40519701e-01,  4.65196526e-01, -9.94658860e-01,\n",
       "          1.27271169e-01, -5.23512832e-01, -1.92715192e-01,\n",
       "          8.86405260e-01],\n",
       "        [ 4.90517846e-01,  4.65196526e-01,  3.93810431e-16,\n",
       "          1.64240413e+00,  5.58125251e-01,  8.66523239e-01,\n",
       "          8.86405260e-01],\n",
       "        [ 9.41258951e-01,  1.12686938e+00, -1.07876604e-01,\n",
       "         -3.77773152e-01, -5.23512832e-01,  7.34118435e-01,\n",
       "         -1.12815215e+00],\n",
       "        [ 3.10221404e-01,  4.65196526e-01,  1.66568791e+00,\n",
       "          1.64240413e+00,  1.09894429e+00,  1.06513044e+00,\n",
       "          8.86405260e-01],\n",
       "        [-5.03714802e-02, -8.58149178e-01, -1.07876604e-01,\n",
       "         -1.38786180e+00, -5.23512832e-01, -1.94707884e+00,\n",
       "         -1.12815215e+00],\n",
       "        [ 1.39200006e+00,  7.96032952e-01, -1.88144112e+00,\n",
       "         -1.89290612e+00, -5.23512832e-01,  1.38296818e-01,\n",
       "          8.86405260e-01],\n",
       "        [ 9.41258951e-01,  6.30614739e-01,  7.78905651e-01,\n",
       "         -3.77773152e-01,  5.58125251e-01, -2.92018795e-01,\n",
       "          8.86405260e-01],\n",
       "        [-4.10964364e-01, -3.61894539e-01, -9.94658860e-01,\n",
       "         -1.38786180e+00, -1.06433187e+00, -2.09265793e-01,\n",
       "         -1.12815215e+00],\n",
       "        [-1.76318768e+00, -1.35440382e+00,  7.78905651e-01,\n",
       "         -3.77773152e-01,  1.73062093e-02, -1.26850422e+00,\n",
       "         -1.12815215e+00],\n",
       "        [ 1.84274116e+00,  1.62312402e+00,  1.66568791e+00,\n",
       "          1.64240413e+00,  1.63976333e+00,  2.14091948e+00,\n",
       "          8.86405260e-01],\n",
       "        [ 8.51110730e-01,  7.96032952e-01, -1.07876604e-01,\n",
       "          1.27271169e-01, -5.23512832e-01,  7.83770236e-01,\n",
       "          8.86405260e-01],\n",
       "        [-1.58289124e+00, -8.58149178e-01, -1.07876604e-01,\n",
       "          6.32315491e-01,  1.73062093e-02,  7.20944157e-02,\n",
       "         -1.12815215e+00],\n",
       "        [-5.03714802e-02, -3.61894539e-01, -9.94658860e-01,\n",
       "         -8.82817474e-01, -1.06433187e+00, -6.23030805e-01,\n",
       "          8.86405260e-01],\n",
       "        [-1.40519701e-01, -1.18898560e+00, -1.88144112e+00,\n",
       "         -1.38786180e+00, -1.06433187e+00, -1.03679582e+00,\n",
       "         -1.12815215e+00],\n",
       "        [-2.30667922e-01, -1.96476326e-01, -9.94658860e-01,\n",
       "          6.32315491e-01,  1.73062093e-02, -5.40277802e-01,\n",
       "         -1.12815215e+00],\n",
       "        [ 7.60962509e-01,  6.30614739e-01,  7.78905651e-01,\n",
       "          6.32315491e-01,  1.09894429e+00,  8.83073839e-01,\n",
       "          8.86405260e-01],\n",
       "        [-7.71557248e-01, -1.96476326e-01, -1.07876604e-01,\n",
       "          1.27271169e-01, -1.06433187e+00, -6.06480204e-01,\n",
       "          8.86405260e-01],\n",
       "        [-1.13215013e+00, -6.92730965e-01,  1.66568791e+00,\n",
       "          1.64240413e+00, -5.23512832e-01, -1.08644762e+00,\n",
       "         -1.12815215e+00],\n",
       "        [-4.10964364e-01, -1.96476326e-01, -1.07876604e-01,\n",
       "         -3.77773152e-01,  1.63976333e+00, -1.06585867e-02,\n",
       "         -1.12815215e+00],\n",
       "        [ 7.60962509e-01,  7.96032952e-01, -9.94658860e-01,\n",
       "         -3.77773152e-01,  1.73062093e-02,  6.34814832e-01,\n",
       "          8.86405260e-01],\n",
       "        [ 8.51110730e-01,  1.12686938e+00,  7.78905651e-01,\n",
       "          6.32315491e-01,  1.73062093e-02,  9.65826842e-01,\n",
       "          8.86405260e-01],\n",
       "        [ 3.97767408e-02, -5.27312752e-01, -9.94658860e-01,\n",
       "          1.13735981e+00,  5.58125251e-01, -1.76164592e-01,\n",
       "         -1.12815215e+00],\n",
       "        [ 5.80666067e-01,  4.65196526e-01, -1.07876604e-01,\n",
       "          6.32315491e-01,  1.73062093e-02,  8.66523239e-01,\n",
       "          8.86405260e-01],\n",
       "        [-2.30667922e-01, -3.10581135e-02, -1.07876604e-01,\n",
       "         -3.77773152e-01,  1.73062093e-02, -6.72682606e-01,\n",
       "          8.86405260e-01],\n",
       "        [ 2.20073183e-01,  1.34360100e-01, -9.94658860e-01,\n",
       "         -8.82817474e-01, -5.23512832e-01,  3.03802822e-01,\n",
       "         -1.12815215e+00],\n",
       "        [ 1.57229650e+00,  1.95396044e+00,  1.66568791e+00,\n",
       "          1.13735981e+00,  1.63976333e+00,  1.59474966e+00,\n",
       "          8.86405260e-01],\n",
       "        [ 5.12433309e-15,  4.65196526e-01,  7.78905651e-01,\n",
       "         -3.77773152e-01,  1.73062093e-02,  6.51365433e-01,\n",
       "          8.86405260e-01],\n",
       "        [-1.76318768e+00, -1.85065846e+00, -9.94658860e-01,\n",
       "         -8.82817474e-01, -2.14596996e+00, -1.13609942e+00,\n",
       "         -1.12815215e+00],\n",
       "        [ 1.75259294e+00,  1.78854223e+00,  1.66568791e+00,\n",
       "          1.13735981e+00,  1.63976333e+00,  1.57819906e+00,\n",
       "          8.86405260e-01],\n",
       "        [-9.51853690e-01, -3.61894539e-01, -9.94658860e-01,\n",
       "         -3.77773152e-01, -1.06433187e+00, -5.23727202e-01,\n",
       "         -1.12815215e+00],\n",
       "        [ 7.60962509e-01, -1.96476326e-01, -1.07876604e-01,\n",
       "          1.27271169e-01,  5.58125251e-01, -2.92018795e-01,\n",
       "          8.86405260e-01],\n",
       "        [ 3.97767408e-02, -1.96476326e-01, -1.07876604e-01,\n",
       "          6.32315491e-01,  1.73062093e-02, -1.26512790e-01,\n",
       "          8.86405260e-01],\n",
       "        [-2.30667922e-01, -1.35440382e+00,  7.78905651e-01,\n",
       "          1.27271169e-01,  1.09894429e+00,  2.54151021e-01,\n",
       "          8.86405260e-01],\n",
       "        [-1.58289124e+00, -1.18898560e+00, -1.07876604e-01,\n",
       "         -1.38786180e+00, -1.60515091e+00, -9.20941613e-01,\n",
       "         -1.12815215e+00],\n",
       "        [ 9.41258951e-01,  9.61451165e-01,  7.78905651e-01,\n",
       "          1.13735981e+00,  1.09894429e+00,  8.83073839e-01,\n",
       "          8.86405260e-01],\n",
       "        [-4.10964364e-01, -3.61894539e-01, -9.94658860e-01,\n",
       "         -1.89290612e+00, -5.23512832e-01, -1.92715192e-01,\n",
       "         -1.12815215e+00],\n",
       "        [ 4.00369625e-01,  4.65196526e-01, -1.07876604e-01,\n",
       "          1.27271169e-01,  1.63976333e+00,  4.52758227e-01,\n",
       "          8.86405260e-01],\n",
       "        [ 6.70814288e-01,  6.30614739e-01,  1.66568791e+00,\n",
       "          1.13735981e+00,  5.58125251e-01,  9.65826842e-01,\n",
       "          8.86405260e-01],\n",
       "        [-5.03714802e-02, -6.92730965e-01, -9.94658860e-01,\n",
       "         -1.38786180e+00,  1.09894429e+00,  2.70701621e-01,\n",
       "         -1.12815215e+00],\n",
       "        [ 2.02303760e+00,  1.12686938e+00,  1.66568791e+00,\n",
       "          6.32315491e-01,  1.09894429e+00,  1.95886287e+00,\n",
       "          8.86405260e-01],\n",
       "        [-1.40519701e-01, -3.61894539e-01, -9.94658860e-01,\n",
       "         -3.77773152e-01, -5.23512832e-01, -3.91322398e-01,\n",
       "         -1.12815215e+00],\n",
       "        [-9.51853690e-01, -1.96476326e-01, -9.94658860e-01,\n",
       "         -1.38786180e+00, -1.06433187e+00, -7.22334407e-01,\n",
       "         -1.12815215e+00],\n",
       "        [-7.71557248e-01,  0.00000000e+00,  7.78905651e-01,\n",
       "          1.27271169e-01, -5.23512832e-01,  3.89932147e-02,\n",
       "         -1.12815215e+00],\n",
       "        [-9.51853690e-01,  4.65196526e-01, -9.94658860e-01,\n",
       "          1.27271169e-01,  5.58125251e-01, -2.09265793e-01,\n",
       "         -1.12815215e+00],\n",
       "        [ 4.90517846e-01,  4.65196526e-01, -1.07876604e-01,\n",
       "          6.32315491e-01,  1.63976333e+00,  1.05195617e-01,\n",
       "          8.86405260e-01],\n",
       "        [-5.03714802e-02,  4.65196526e-01, -1.07876604e-01,\n",
       "          6.32315491e-01,  1.09894429e+00,  3.36904023e-01,\n",
       "          8.86405260e-01],\n",
       "        [-1.22229835e+00, -1.35440382e+00, -1.07876604e-01,\n",
       "         -1.38786180e+00, -1.06433187e+00, -1.51676323e+00,\n",
       "         -1.12815215e+00],\n",
       "        [-5.01112585e-01, -6.92730965e-01, -1.07876604e-01,\n",
       "         -1.38786180e+00,  5.58125251e-01, -8.05087410e-01,\n",
       "         -1.12815215e+00]]),\n",
       " 392    0.84\n",
       " 114    0.59\n",
       " 135    0.82\n",
       " 364    0.77\n",
       " 493    0.62\n",
       "        ... \n",
       " 111    0.69\n",
       " 369    0.67\n",
       " 383    0.62\n",
       " 207    0.66\n",
       " 191    0.87\n",
       " Name: Chance_of_Admit, Length: 375, dtype: float64,\n",
       " 312    0.78\n",
       " 126    0.85\n",
       " 403    0.91\n",
       " 302    0.65\n",
       " 343    0.59\n",
       "        ... \n",
       " 226    0.63\n",
       " 360    0.85\n",
       " 105    0.69\n",
       " 94     0.36\n",
       " 471    0.64\n",
       " Name: Chance_of_Admit, Length: 125, dtype: float64]"
      ]
     },
     "execution_count": 52,
     "metadata": {},
     "output_type": "execute_result"
    }
   ],
   "source": [
    "train_test_split(arr,y,test_size= 0.25)   # for testing purpose =25% and remaning 75% for trainning purpose"
   ]
  },
  {
   "cell_type": "raw",
   "metadata": {},
   "source": [
    " it is give 4 tuple / 4 outcome, it is going to give it to me in general \n",
    "x_train,x_test,y_train,y_test"
   ]
  },
  {
   "cell_type": "code",
   "execution_count": 53,
   "metadata": {},
   "outputs": [],
   "source": [
    "x_train,x_test,y_train,y_test = train_test_split(arr,y,test_size= 0.25) "
   ]
  },
  {
   "cell_type": "code",
   "execution_count": 63,
   "metadata": {},
   "outputs": [
    {
     "data": {
      "text/plain": [
       "array([[ 1.30185183,  1.4577058 ,  0.77890565, ...,  1.09894429,\n",
       "         1.42924366,  0.88640526],\n",
       "       [-0.86170547, -0.85814918, -0.1078766 , ..., -0.52351283,\n",
       "        -0.5071766 , -1.12815215],\n",
       "       [ 0.12992496, -0.19647633, -0.99465886, ...,  0.55812525,\n",
       "        -1.08644762,  0.88640526],\n",
       "       ...,\n",
       "       [-1.8533359 , -1.35440382, -0.99465886, ..., -1.06433187,\n",
       "        -0.90439101, -1.12815215],\n",
       "       [-1.13215013, -0.03105811, -0.1078766 , ..., -0.52351283,\n",
       "        -1.18575122, -1.12815215],\n",
       "       [-1.04200191, -0.69273097, -0.99465886, ...,  0.01730621,\n",
       "        -0.73888501, -1.12815215]])"
      ]
     },
     "execution_count": 63,
     "metadata": {},
     "output_type": "execute_result"
    }
   ],
   "source": [
    "x_train   \n",
    "#it split a data in random function -- change continues\n",
    "# in numpy we us  seed function \n",
    "# in this case we use \"random_state\""
   ]
  },
  {
   "cell_type": "code",
   "execution_count": 65,
   "metadata": {},
   "outputs": [],
   "source": [
    "x_train,x_test,y_train,y_test = train_test_split(arr,y,test_size= 0.25,random_state = 345)"
   ]
  },
  {
   "cell_type": "code",
   "execution_count": 67,
   "metadata": {},
   "outputs": [
    {
     "data": {
      "text/plain": [
       "array([[-4.10964364e-01, -6.92730965e-01,  7.78905651e-01, ...,\n",
       "         1.63976333e+00, -2.42366993e-01, -1.12815215e+00],\n",
       "       [-1.67303946e+00, -1.02356739e+00,  7.78905651e-01, ...,\n",
       "         1.09894429e+00, -1.46711143e+00,  8.86405260e-01],\n",
       "       [-4.10964364e-01,  1.34360100e-01, -1.07876604e-01, ...,\n",
       "        -5.23512832e-01, -7.68609886e-02, -1.12815215e+00],\n",
       "       ...,\n",
       "       [ 4.90517846e-01,  1.29228759e+00,  1.66568791e+00, ...,\n",
       "         1.09894429e+00,  1.29683885e+00,  8.86405260e-01],\n",
       "       [-1.67303946e+00, -1.68524024e+00,  3.93810431e-16, ...,\n",
       "        -5.23512832e-01, -2.26154025e+00, -1.12815215e+00],\n",
       "       [ 1.75259294e+00,  1.95396044e+00,  1.66568791e+00, ...,\n",
       "         1.73062093e-02,  2.02506527e+00,  8.86405260e-01]])"
      ]
     },
     "execution_count": 67,
     "metadata": {},
     "output_type": "execute_result"
    }
   ],
   "source": [
    "x_train  # now it not changes again and again"
   ]
  },
  {
   "cell_type": "markdown",
   "metadata": {},
   "source": [
    "## Linear Regression"
   ]
  },
  {
   "cell_type": "code",
   "execution_count": 68,
   "metadata": {},
   "outputs": [],
   "source": [
    "lr = LinearRegression()"
   ]
  },
  {
   "cell_type": "code",
   "execution_count": 69,
   "metadata": {},
   "outputs": [
    {
     "data": {
      "text/plain": [
       "LinearRegression(copy_X=True, fit_intercept=True, n_jobs=None, normalize=False)"
      ]
     },
     "execution_count": 69,
     "metadata": {},
     "output_type": "execute_result"
    }
   ],
   "source": [
    "lr.fit(x_train,y_train)"
   ]
  },
  {
   "cell_type": "code",
   "execution_count": 74,
   "metadata": {},
   "outputs": [],
   "source": [
    "# create a file to dump this model\n",
    "pickle.dump(lr,open(\"admission_lr_model.pickel\",\"wb\"))"
   ]
  },
  {
   "cell_type": "code",
   "execution_count": 75,
   "metadata": {},
   "outputs": [
    {
     "data": {
      "text/html": [
       "<div>\n",
       "<style scoped>\n",
       "    .dataframe tbody tr th:only-of-type {\n",
       "        vertical-align: middle;\n",
       "    }\n",
       "\n",
       "    .dataframe tbody tr th {\n",
       "        vertical-align: top;\n",
       "    }\n",
       "\n",
       "    .dataframe thead th {\n",
       "        text-align: right;\n",
       "    }\n",
       "</style>\n",
       "<table border=\"1\" class=\"dataframe\">\n",
       "  <thead>\n",
       "    <tr style=\"text-align: right;\">\n",
       "      <th></th>\n",
       "      <th>GRE_Score</th>\n",
       "      <th>TOEFL_Score</th>\n",
       "      <th>University_Rating</th>\n",
       "      <th>SOP</th>\n",
       "      <th>LOR</th>\n",
       "      <th>CGPA</th>\n",
       "      <th>Research</th>\n",
       "      <th>Chance_of_Admit</th>\n",
       "    </tr>\n",
       "  </thead>\n",
       "  <tbody>\n",
       "    <tr>\n",
       "      <th>0</th>\n",
       "      <td>337.000000</td>\n",
       "      <td>118.0</td>\n",
       "      <td>4.0</td>\n",
       "      <td>4.5</td>\n",
       "      <td>4.5</td>\n",
       "      <td>9.65</td>\n",
       "      <td>1</td>\n",
       "      <td>0.92</td>\n",
       "    </tr>\n",
       "    <tr>\n",
       "      <th>1</th>\n",
       "      <td>324.000000</td>\n",
       "      <td>107.0</td>\n",
       "      <td>4.0</td>\n",
       "      <td>4.0</td>\n",
       "      <td>4.5</td>\n",
       "      <td>8.87</td>\n",
       "      <td>1</td>\n",
       "      <td>0.76</td>\n",
       "    </tr>\n",
       "    <tr>\n",
       "      <th>2</th>\n",
       "      <td>316.558763</td>\n",
       "      <td>104.0</td>\n",
       "      <td>3.0</td>\n",
       "      <td>3.0</td>\n",
       "      <td>3.5</td>\n",
       "      <td>8.00</td>\n",
       "      <td>1</td>\n",
       "      <td>0.72</td>\n",
       "    </tr>\n",
       "    <tr>\n",
       "      <th>3</th>\n",
       "      <td>322.000000</td>\n",
       "      <td>110.0</td>\n",
       "      <td>3.0</td>\n",
       "      <td>3.5</td>\n",
       "      <td>2.5</td>\n",
       "      <td>8.67</td>\n",
       "      <td>1</td>\n",
       "      <td>0.80</td>\n",
       "    </tr>\n",
       "    <tr>\n",
       "      <th>4</th>\n",
       "      <td>314.000000</td>\n",
       "      <td>103.0</td>\n",
       "      <td>2.0</td>\n",
       "      <td>2.0</td>\n",
       "      <td>3.0</td>\n",
       "      <td>8.21</td>\n",
       "      <td>0</td>\n",
       "      <td>0.65</td>\n",
       "    </tr>\n",
       "    <tr>\n",
       "      <th>...</th>\n",
       "      <td>...</td>\n",
       "      <td>...</td>\n",
       "      <td>...</td>\n",
       "      <td>...</td>\n",
       "      <td>...</td>\n",
       "      <td>...</td>\n",
       "      <td>...</td>\n",
       "      <td>...</td>\n",
       "    </tr>\n",
       "    <tr>\n",
       "      <th>495</th>\n",
       "      <td>332.000000</td>\n",
       "      <td>108.0</td>\n",
       "      <td>5.0</td>\n",
       "      <td>4.5</td>\n",
       "      <td>4.0</td>\n",
       "      <td>9.02</td>\n",
       "      <td>1</td>\n",
       "      <td>0.87</td>\n",
       "    </tr>\n",
       "    <tr>\n",
       "      <th>496</th>\n",
       "      <td>337.000000</td>\n",
       "      <td>117.0</td>\n",
       "      <td>5.0</td>\n",
       "      <td>5.0</td>\n",
       "      <td>5.0</td>\n",
       "      <td>9.87</td>\n",
       "      <td>1</td>\n",
       "      <td>0.96</td>\n",
       "    </tr>\n",
       "    <tr>\n",
       "      <th>497</th>\n",
       "      <td>330.000000</td>\n",
       "      <td>120.0</td>\n",
       "      <td>5.0</td>\n",
       "      <td>4.5</td>\n",
       "      <td>5.0</td>\n",
       "      <td>9.56</td>\n",
       "      <td>1</td>\n",
       "      <td>0.93</td>\n",
       "    </tr>\n",
       "    <tr>\n",
       "      <th>498</th>\n",
       "      <td>312.000000</td>\n",
       "      <td>103.0</td>\n",
       "      <td>4.0</td>\n",
       "      <td>4.0</td>\n",
       "      <td>5.0</td>\n",
       "      <td>8.43</td>\n",
       "      <td>0</td>\n",
       "      <td>0.73</td>\n",
       "    </tr>\n",
       "    <tr>\n",
       "      <th>499</th>\n",
       "      <td>327.000000</td>\n",
       "      <td>113.0</td>\n",
       "      <td>4.0</td>\n",
       "      <td>4.5</td>\n",
       "      <td>4.5</td>\n",
       "      <td>9.04</td>\n",
       "      <td>0</td>\n",
       "      <td>0.84</td>\n",
       "    </tr>\n",
       "  </tbody>\n",
       "</table>\n",
       "<p>500 rows × 8 columns</p>\n",
       "</div>"
      ],
      "text/plain": [
       "      GRE_Score  TOEFL_Score  University_Rating  SOP  LOR  CGPA  Research  \\\n",
       "0    337.000000        118.0                4.0  4.5  4.5  9.65         1   \n",
       "1    324.000000        107.0                4.0  4.0  4.5  8.87         1   \n",
       "2    316.558763        104.0                3.0  3.0  3.5  8.00         1   \n",
       "3    322.000000        110.0                3.0  3.5  2.5  8.67         1   \n",
       "4    314.000000        103.0                2.0  2.0  3.0  8.21         0   \n",
       "..          ...          ...                ...  ...  ...   ...       ...   \n",
       "495  332.000000        108.0                5.0  4.5  4.0  9.02         1   \n",
       "496  337.000000        117.0                5.0  5.0  5.0  9.87         1   \n",
       "497  330.000000        120.0                5.0  4.5  5.0  9.56         1   \n",
       "498  312.000000        103.0                4.0  4.0  5.0  8.43         0   \n",
       "499  327.000000        113.0                4.0  4.5  4.5  9.04         0   \n",
       "\n",
       "     Chance_of_Admit  \n",
       "0               0.92  \n",
       "1               0.76  \n",
       "2               0.72  \n",
       "3               0.80  \n",
       "4               0.65  \n",
       "..               ...  \n",
       "495             0.87  \n",
       "496             0.96  \n",
       "497             0.93  \n",
       "498             0.73  \n",
       "499             0.84  \n",
       "\n",
       "[500 rows x 8 columns]"
      ]
     },
     "execution_count": 75,
     "metadata": {},
     "output_type": "execute_result"
    }
   ],
   "source": [
    "df"
   ]
  },
  {
   "cell_type": "code",
   "execution_count": 76,
   "metadata": {},
   "outputs": [
    {
     "data": {
      "text/plain": [
       "array([9.08716858])"
      ]
     },
     "execution_count": 76,
     "metadata": {},
     "output_type": "execute_result"
    }
   ],
   "source": [
    "lr.predict([[315.0000,104.0,3.0,3.0,3.5,8.00,1]])\n",
    "# chance of admit 0 to 1"
   ]
  },
  {
   "cell_type": "code",
   "execution_count": 78,
   "metadata": {},
   "outputs": [],
   "source": [
    "# in case we change the complete range of the dataset \n",
    "# here data set divided into 2 part traing and testing\n",
    "\n",
    "# here we scale the data becoz we chage in the scaler data"
   ]
  },
  {
   "cell_type": "code",
   "execution_count": 87,
   "metadata": {},
   "outputs": [],
   "source": [
    "test1=scaler.transform([[315.0000,104.0,3.0,3.0,3.5,8.00,1]])\n",
    "# now it give scaler data"
   ]
  },
  {
   "cell_type": "code",
   "execution_count": 88,
   "metadata": {},
   "outputs": [
    {
     "data": {
      "text/plain": [
       "array([[-0.1405197 , -0.52731275, -0.1078766 , -0.37777315,  0.01730621,\n",
       "        -0.95404281,  0.88640526]])"
      ]
     },
     "execution_count": 88,
     "metadata": {},
     "output_type": "execute_result"
    }
   ],
   "source": [
    "test1"
   ]
  },
  {
   "cell_type": "raw",
   "metadata": {},
   "source": [
    "# because is not aware about what ever we done scaling or not not \n",
    "in case whatever we done in \"training dataset\" we can also perform in \"testing dataset\"\n",
    "becoz user can feed onlu \"orizinal data\" -----> not scalar one\n"
   ]
  },
  {
   "cell_type": "code",
   "execution_count": 80,
   "metadata": {},
   "outputs": [
    {
     "data": {
      "text/plain": [
       "array([0.65096324])"
      ]
     },
     "execution_count": 80,
     "metadata": {},
     "output_type": "execute_result"
    }
   ],
   "source": [
    "lr.predict([[-0.1405197 , -0.52731275, -0.1078766 , -0.37777315,  0.01730621,\n",
    "        -0.95404281,  0.88640526]])"
   ]
  },
  {
   "cell_type": "code",
   "execution_count": 81,
   "metadata": {},
   "outputs": [],
   "source": [
    "# now it give me original result"
   ]
  },
  {
   "cell_type": "markdown",
   "metadata": {},
   "source": [
    "### pickel file opening"
   ]
  },
  {
   "cell_type": "code",
   "execution_count": 84,
   "metadata": {},
   "outputs": [],
   "source": [
    "model= pickle.load(open(\"admission_lr_model.pickel\",\"rb\"))"
   ]
  },
  {
   "cell_type": "code",
   "execution_count": 89,
   "metadata": {},
   "outputs": [
    {
     "data": {
      "text/plain": [
       "array([0.65096324])"
      ]
     },
     "execution_count": 89,
     "metadata": {},
     "output_type": "execute_result"
    }
   ],
   "source": [
    "model.predict(test1)"
   ]
  },
  {
   "cell_type": "code",
   "execution_count": 91,
   "metadata": {},
   "outputs": [
    {
     "data": {
      "text/plain": [
       "0.7476466381844958"
      ]
     },
     "execution_count": 91,
     "metadata": {},
     "output_type": "execute_result"
    }
   ],
   "source": [
    "lr.score(x_test,y_test)"
   ]
  },
  {
   "cell_type": "code",
   "execution_count": 92,
   "metadata": {},
   "outputs": [
    {
     "data": {
      "text/plain": [
       "array([[-3.20816143e-01,  2.99778313e-01, -1.07876604e-01,\n",
       "         6.32315491e-01,  1.73062093e-02,  7.01017234e-01,\n",
       "        -1.12815215e+00],\n",
       "       [-3.20816143e-01, -8.58149178e-01, -1.07876604e-01,\n",
       "        -1.38786180e+00, -5.23512832e-01, -5.07176601e-01,\n",
       "        -1.12815215e+00],\n",
       "       [ 6.70814288e-01,  4.65196526e-01, -1.07876604e-01,\n",
       "         1.27271169e-01, -5.23512832e-01,  1.06513044e+00,\n",
       "         8.86405260e-01],\n",
       "       [ 2.02303760e+00,  1.45770580e+00,  7.78905651e-01,\n",
       "         6.32315491e-01,  1.73062093e-02,  2.02506527e+00,\n",
       "         8.86405260e-01],\n",
       "       [ 1.29924962e-01, -1.96476326e-01, -1.07876604e-01,\n",
       "        -1.38786180e+00, -5.23512832e-01,  1.21746217e-01,\n",
       "        -1.12815215e+00],\n",
       "       [-4.10964364e-01, -3.61894539e-01, -9.94658860e-01,\n",
       "        -1.38786180e+00, -1.06433187e+00, -2.09265793e-01,\n",
       "        -1.12815215e+00],\n",
       "       [ 1.29924962e-01,  2.99778313e-01, -1.07876604e-01,\n",
       "         1.27271169e-01,  5.58125251e-01,  1.06513044e+00,\n",
       "         8.86405260e-01],\n",
       "       [ 5.80666067e-01, -3.10581135e-02, -1.07876604e-01,\n",
       "         1.27271169e-01,  1.73062093e-02, -4.37597877e-02,\n",
       "         8.86405260e-01],\n",
       "       [ 1.48214828e+00,  1.78854223e+00,  1.66568791e+00,\n",
       "         1.64240413e+00,  1.63976333e+00,  1.28028825e+00,\n",
       "         8.86405260e-01],\n",
       "       [ 7.60962509e-01,  6.30614739e-01, -1.07876604e-01,\n",
       "        -3.77773152e-01,  1.73062093e-02,  2.04499220e-01,\n",
       "        -1.12815215e+00],\n",
       "       [-1.67303946e+00, -1.51982203e+00, -9.94658860e-01,\n",
       "        -1.89290612e+00, -1.06433187e+00, -1.78157284e+00,\n",
       "         8.86405260e-01],\n",
       "       [-1.13215013e+00, -1.18898560e+00,  7.78905651e-01,\n",
       "        -1.89290612e+00, -1.06433187e+00, -1.21885242e+00,\n",
       "        -1.12815215e+00],\n",
       "       [ 1.21170361e+00,  1.45770580e+00,  7.78905651e-01,\n",
       "         1.64240413e+00,  1.09894429e+00,  1.44579426e+00,\n",
       "         8.86405260e-01],\n",
       "       [-1.94348412e+00, -1.85065846e+00, -9.94658860e-01,\n",
       "        -1.89290612e+00, -1.60515091e+00, -2.04638245e+00,\n",
       "        -1.12815215e+00],\n",
       "       [ 1.29924962e-01,  2.99778313e-01, -1.07876604e-01,\n",
       "        -3.77773152e-01, -5.23512832e-01, -1.26512790e-01,\n",
       "        -1.12815215e+00],\n",
       "       [-1.04200191e+00, -8.58149178e-01, -9.94658860e-01,\n",
       "        -1.89290612e+00, -1.06433187e+00, -1.54986443e+00,\n",
       "        -1.12815215e+00],\n",
       "       [ 4.00369625e-01,  6.30614739e-01, -1.07876604e-01,\n",
       "         1.27271169e-01,  5.58125251e-01,  4.19657026e-01,\n",
       "         8.86405260e-01],\n",
       "       [-1.40519701e-01,  4.65196526e-01, -9.94658860e-01,\n",
       "         1.27271169e-01, -5.23512832e-01, -1.92715192e-01,\n",
       "         8.86405260e-01],\n",
       "       [-1.49274302e+00, -1.68524024e+00, -9.94658860e-01,\n",
       "        -3.77773152e-01, -5.23512832e-01, -7.88536809e-01,\n",
       "         8.86405260e-01],\n",
       "       [-1.31244657e+00, -1.35440382e+00, -1.07876604e-01,\n",
       "        -8.82817474e-01, -5.23512832e-01, -1.86432584e+00,\n",
       "        -1.12815215e+00],\n",
       "       [ 3.97767408e-02, -3.10581135e-02, -1.07876604e-01,\n",
       "         1.27271169e-01, -5.23512832e-01,  1.71398019e-01,\n",
       "         8.86405260e-01],\n",
       "       [-5.91260806e-01, -1.96476326e-01, -9.94658860e-01,\n",
       "         1.27271169e-01, -1.06433187e+00, -4.07872998e-01,\n",
       "        -1.12815215e+00],\n",
       "       [ 4.00369625e-01,  2.99778313e-01, -1.07876604e-01,\n",
       "         1.27271169e-01,  1.73062093e-02,  3.70005224e-01,\n",
       "         8.86405260e-01],\n",
       "       [ 1.39200006e+00,  1.95396044e+00,  7.78905651e-01,\n",
       "         1.64240413e+00,  1.09894429e+00,  1.09823165e+00,\n",
       "         8.86405260e-01],\n",
       "       [ 7.60962509e-01,  7.96032952e-01,  7.78905651e-01,\n",
       "         6.32315491e-01,  1.09894429e+00,  9.82377442e-01,\n",
       "         8.86405260e-01],\n",
       "       [-1.40259480e+00, -5.27312752e-01, -9.94658860e-01,\n",
       "         1.27271169e-01,  1.73062093e-02, -1.13609942e+00,\n",
       "         8.86405260e-01],\n",
       "       [ 1.30185183e+00,  2.11937866e+00, -1.07876604e-01,\n",
       "         6.32315491e-01,  5.58125251e-01,  6.34814832e-01,\n",
       "         8.86405260e-01],\n",
       "       [-9.51853690e-01, -6.92730965e-01, -9.94658860e-01,\n",
       "        -8.82817474e-01, -5.23512832e-01, -3.58221197e-01,\n",
       "        -1.12815215e+00],\n",
       "       [ 2.20073183e-01, -8.58149178e-01,  3.93810431e-16,\n",
       "        -8.82817474e-01, -1.06433187e+00, -3.41670596e-01,\n",
       "        -1.12815215e+00],\n",
       "       [ 1.03140717e+00,  4.65196526e-01,  7.78905651e-01,\n",
       "         1.64240413e+00,  5.58125251e-01,  9.32725641e-01,\n",
       "         8.86405260e-01],\n",
       "       [-1.22229835e+00, -3.61894539e-01,  1.66568791e+00,\n",
       "         1.64240413e+00,  1.09894429e+00,  1.21746217e-01,\n",
       "        -1.12815215e+00],\n",
       "       [ 1.29924962e-01, -3.10581135e-02, -1.07876604e-01,\n",
       "        -3.77773152e-01,  1.73062093e-02, -5.07176601e-01,\n",
       "         8.86405260e-01],\n",
       "       [ 2.02303760e+00,  1.95396044e+00,  1.66568791e+00,\n",
       "         1.13735981e+00,  5.58125251e-01,  1.85955927e+00,\n",
       "        -1.12815215e+00],\n",
       "       [ 1.03140717e+00,  4.65196526e-01,  7.78905651e-01,\n",
       "         6.32315491e-01, -1.06433187e+00,  7.34118435e-01,\n",
       "         8.86405260e-01],\n",
       "       [ 4.00369625e-01,  7.96032952e-01,  1.66568791e+00,\n",
       "         1.64240413e+00,  1.63976333e+00,  8.00320837e-01,\n",
       "         8.86405260e-01],\n",
       "       [ 1.48214828e+00,  1.62312402e+00,  7.78905651e-01,\n",
       "         1.64240413e+00,  5.58125251e-01,  1.79335687e+00,\n",
       "         8.86405260e-01],\n",
       "       [ 2.11318582e+00,  1.29228759e+00,  1.66568791e+00,\n",
       "         1.13735981e+00,  1.09894429e+00,  1.44579426e+00,\n",
       "         8.86405260e-01],\n",
       "       [-8.61705469e-01, -3.61894539e-01, -9.94658860e-01,\n",
       "        -8.82817474e-01,  1.09894429e+00, -7.55435608e-01,\n",
       "         8.86405260e-01],\n",
       "       [-4.10964364e-01,  2.99778313e-01, -9.94658860e-01,\n",
       "        -8.82817474e-01,  5.58125251e-01,  7.34118435e-01,\n",
       "        -1.12815215e+00],\n",
       "       [ 4.00369625e-01,  7.96032952e-01, -1.07876604e-01,\n",
       "        -3.77773152e-01,  1.09894429e+00,  6.18264232e-01,\n",
       "         8.86405260e-01],\n",
       "       [ 1.12155539e+00,  6.30614739e-01,  7.78905651e-01,\n",
       "         1.13735981e+00,  5.58125251e-01,  7.17567835e-01,\n",
       "         8.86405260e-01],\n",
       "       [-5.03714802e-02,  4.65196526e-01,  3.93810431e-16,\n",
       "         1.27271169e-01,  5.58125251e-01, -2.72091872e-02,\n",
       "        -1.12815215e+00],\n",
       "       [-8.61705469e-01, -3.61894539e-01, -9.94658860e-01,\n",
       "        -1.38786180e+00,  1.73062093e-02, -7.88536809e-01,\n",
       "        -1.12815215e+00],\n",
       "       [-1.04200191e+00, -3.61894539e-01, -9.94658860e-01,\n",
       "        -3.77773152e-01,  5.58125251e-01, -7.38885008e-01,\n",
       "        -1.12815215e+00],\n",
       "       [ 9.41258951e-01,  0.00000000e+00,  7.78905651e-01,\n",
       "         6.32315491e-01,  1.09894429e+00,  2.87252222e-01,\n",
       "         8.86405260e-01],\n",
       "       [-5.03714802e-02,  2.99778313e-01,  7.78905651e-01,\n",
       "         1.13735981e+00,  1.73062093e-02,  3.03802822e-01,\n",
       "         8.86405260e-01],\n",
       "       [-7.71557248e-01, -6.92730965e-01, -9.94658860e-01,\n",
       "        -8.82817474e-01,  5.58125251e-01, -3.58221197e-01,\n",
       "         8.86405260e-01],\n",
       "       [ 5.12433309e-15, -1.96476326e-01,  7.78905651e-01,\n",
       "        -8.82817474e-01, -5.23512832e-01, -1.76164592e-01,\n",
       "        -1.12815215e+00],\n",
       "       [ 5.12433309e-15,  1.78854223e+00,  1.66568791e+00,\n",
       "         1.64240413e+00,  1.63976333e+00,  1.76025566e+00,\n",
       "         8.86405260e-01],\n",
       "       [ 3.97767408e-02, -5.27312752e-01, -9.94658860e-01,\n",
       "        -3.77773152e-01, -5.23512832e-01,  3.03802822e-01,\n",
       "        -1.12815215e+00],\n",
       "       [-1.40519701e-01, -6.92730965e-01, -1.88144112e+00,\n",
       "        -1.89290612e+00, -1.60515091e+00, -1.18575122e+00,\n",
       "        -1.12815215e+00],\n",
       "       [-7.71557248e-01,  2.99778313e-01, -9.94658860e-01,\n",
       "        -3.77773152e-01,  5.58125251e-01, -2.09265793e-01,\n",
       "        -1.12815215e+00],\n",
       "       [-1.49274302e+00, -1.18898560e+00,  3.93810431e-16,\n",
       "        -3.77773152e-01,  1.73062093e-02, -5.23727202e-01,\n",
       "        -1.12815215e+00],\n",
       "       [-9.51853690e-01, -3.61894539e-01, -9.94658860e-01,\n",
       "        -3.77773152e-01, -1.06433187e+00, -5.23727202e-01,\n",
       "        -1.12815215e+00],\n",
       "       [-5.03714802e-02, -1.51982203e+00,  3.93810431e-16,\n",
       "        -1.89290612e+00, -1.60515091e+00, -1.89742704e+00,\n",
       "        -1.12815215e+00],\n",
       "       [-1.13215013e+00, -1.18898560e+00, -9.94658860e-01,\n",
       "        -8.82817474e-01,  1.73062093e-02, -8.38188611e-01,\n",
       "        -1.12815215e+00],\n",
       "       [-1.67303946e+00, -2.51233131e+00, -1.88144112e+00,\n",
       "        -1.38786180e+00, -1.60515091e+00, -1.15265002e+00,\n",
       "        -1.12815215e+00],\n",
       "       [ 6.70814288e-01,  9.61451165e-01,  7.78905651e-01,\n",
       "         1.13735981e+00,  5.58125251e-01,  3.53454624e-01,\n",
       "        -1.12815215e+00],\n",
       "       [-1.04200191e+00,  1.34360100e-01,  1.66568791e+00,\n",
       "        -3.77773152e-01, -5.23512832e-01, -1.59613991e-01,\n",
       "        -1.12815215e+00],\n",
       "       [ 1.84274116e+00,  1.78854223e+00,  7.78905651e-01,\n",
       "         1.13735981e+00,  1.09894429e+00,  1.77680627e+00,\n",
       "         8.86405260e-01],\n",
       "       [ 9.41258951e-01,  1.45770580e+00,  7.78905651e-01,\n",
       "         6.32315491e-01,  1.09894429e+00,  1.49544606e+00,\n",
       "         8.86405260e-01],\n",
       "       [ 4.90517846e-01,  1.12686938e+00,  1.66568791e+00,\n",
       "         1.13735981e+00,  5.58125251e-01,  6.01713631e-01,\n",
       "         8.86405260e-01],\n",
       "       [-4.10964364e-01, -3.10581135e-02,  7.78905651e-01,\n",
       "         1.13735981e+00,  5.58125251e-01,  1.21746217e-01,\n",
       "         8.86405260e-01],\n",
       "       [ 3.10221404e-01,  9.61451165e-01, -9.94658860e-01,\n",
       "        -1.38786180e+00, -1.06433187e+00,  1.05195617e-01,\n",
       "         8.86405260e-01],\n",
       "       [-1.40259480e+00, -1.85065846e+00, -1.88144112e+00,\n",
       "        -3.77773152e-01,  5.58125251e-01, -1.68226924e+00,\n",
       "        -1.12815215e+00],\n",
       "       [-8.61705469e-01,  2.99778313e-01, -1.07876604e-01,\n",
       "         6.32315491e-01, -5.23512832e-01, -9.54042814e-01,\n",
       "         8.86405260e-01],\n",
       "       [ 9.41258951e-01, -6.92730965e-01, -1.07876604e-01,\n",
       "         6.32315491e-01,  5.58125251e-01, -4.57524800e-01,\n",
       "         8.86405260e-01],\n",
       "       [ 5.80666067e-01,  4.65196526e-01, -1.07876604e-01,\n",
       "         6.32315491e-01,  1.73062093e-02,  8.66523239e-01,\n",
       "         8.86405260e-01],\n",
       "       [ 1.30185183e+00,  1.45770580e+00,  7.78905651e-01,\n",
       "         1.13735981e+00,  1.09894429e+00,  1.42924366e+00,\n",
       "         8.86405260e-01],\n",
       "       [ 8.51110730e-01,  7.96032952e-01, -1.07876604e-01,\n",
       "         1.27271169e-01, -5.23512832e-01,  8.66523239e-01,\n",
       "         8.86405260e-01],\n",
       "       [-1.85333590e+00, -1.35440382e+00, -9.94658860e-01,\n",
       "        -8.82817474e-01, -1.06433187e+00, -9.04391013e-01,\n",
       "        -1.12815215e+00],\n",
       "       [-5.01112585e-01,  0.00000000e+00, -9.94658860e-01,\n",
       "        -8.82817474e-01,  1.73062093e-02, -3.91322398e-01,\n",
       "         8.86405260e-01],\n",
       "       [ 6.70814288e-01,  1.12686938e+00,  1.66568791e+00,\n",
       "         1.64240413e+00,  1.09894429e+00,  8.33422038e-01,\n",
       "         8.86405260e-01],\n",
       "       [ 1.57229650e+00,  1.95396044e+00,  1.66568791e+00,\n",
       "         1.13735981e+00,  1.09894429e+00,  1.49544606e+00,\n",
       "         8.86405260e-01],\n",
       "       [ 4.00369625e-01,  2.99778313e-01, -1.07876604e-01,\n",
       "        -3.77773152e-01, -5.23512832e-01, -6.03103882e-02,\n",
       "         8.86405260e-01],\n",
       "       [-5.01112585e-01, -3.61894539e-01, -9.94658860e-01,\n",
       "        -3.77773152e-01, -1.60515091e+00, -7.55435608e-01,\n",
       "         8.86405260e-01],\n",
       "       [-1.40519701e-01, -3.61894539e-01, -1.07876604e-01,\n",
       "        -1.38786180e+00, -1.06433187e+00, -3.91322398e-01,\n",
       "        -1.12815215e+00],\n",
       "       [ 4.90517846e-01,  4.65196526e-01,  1.66568791e+00,\n",
       "         1.13735981e+00,  5.58125251e-01,  6.51365433e-01,\n",
       "        -1.12815215e+00],\n",
       "       [ 7.60962509e-01,  4.65196526e-01,  7.78905651e-01,\n",
       "         1.27271169e-01,  5.58125251e-01,  1.54847418e-01,\n",
       "         8.86405260e-01],\n",
       "       [-8.61705469e-01, -3.61894539e-01,  7.78905651e-01,\n",
       "        -3.77773152e-01, -5.23512832e-01, -1.05334642e+00,\n",
       "        -1.12815215e+00],\n",
       "       [-5.03714802e-02,  4.65196526e-01, -1.07876604e-01,\n",
       "         6.32315491e-01,  1.09894429e+00,  3.36904023e-01,\n",
       "         8.86405260e-01],\n",
       "       [ 9.41258951e-01,  9.61451165e-01,  7.78905651e-01,\n",
       "         1.13735981e+00,  1.63976333e+00,  9.32725641e-01,\n",
       "        -1.12815215e+00],\n",
       "       [-1.31244657e+00, -8.58149178e-01, -1.88144112e+00,\n",
       "        -1.38786180e+00, -2.14596996e+00, -9.54042814e-01,\n",
       "        -1.12815215e+00],\n",
       "       [-5.91260806e-01,  4.65196526e-01, -1.88144112e+00,\n",
       "        -1.89290612e+00,  5.58125251e-01, -2.22843905e+00,\n",
       "         8.86405260e-01],\n",
       "       [-5.03714802e-02, -8.58149178e-01, -1.07876604e-01,\n",
       "        -1.38786180e+00, -5.23512832e-01, -1.94707884e+00,\n",
       "        -1.12815215e+00],\n",
       "       [ 1.12155539e+00,  1.12686938e+00,  1.66568791e+00,\n",
       "         6.32315491e-01,  1.63976333e+00,  1.19753525e+00,\n",
       "         8.86405260e-01],\n",
       "       [-1.67303946e+00, -1.51982203e+00, -9.94658860e-01,\n",
       "         6.32315491e-01, -5.23512832e-01, -9.04391013e-01,\n",
       "        -1.12815215e+00],\n",
       "       [ 4.00369625e-01, -3.10581135e-02, -9.94658860e-01,\n",
       "        -1.38786180e+00, -2.14596996e+00, -2.25816393e-01,\n",
       "        -1.12815215e+00],\n",
       "       [ 7.60962509e-01, -1.96476326e-01, -1.07876604e-01,\n",
       "         1.27271169e-01,  5.58125251e-01, -2.92018795e-01,\n",
       "         8.86405260e-01],\n",
       "       [-1.40519701e-01, -3.61894539e-01, -9.94658860e-01,\n",
       "        -3.77773152e-01, -5.23512832e-01, -3.91322398e-01,\n",
       "        -1.12815215e+00],\n",
       "       [-5.91260806e-01, -1.02356739e+00, -1.07876604e-01,\n",
       "         1.27271169e-01,  1.63976333e+00,  1.21746217e-01,\n",
       "         8.86405260e-01],\n",
       "       [ 4.90517846e-01,  0.00000000e+00,  7.78905651e-01,\n",
       "         1.13735981e+00,  1.09894429e+00,  1.13133285e+00,\n",
       "         8.86405260e-01],\n",
       "       [ 7.60962509e-01,  4.65196526e-01,  7.78905651e-01,\n",
       "         1.13735981e+00,  5.58125251e-01,  6.34814832e-01,\n",
       "         8.86405260e-01],\n",
       "       [-3.20816143e-01, -5.27312752e-01, -1.07876604e-01,\n",
       "         6.32315491e-01,  1.09894429e+00,  1.21746217e-01,\n",
       "        -1.12815215e+00],\n",
       "       [-1.40259480e+00, -3.10581135e-02, -1.07876604e-01,\n",
       "         1.27271169e-01,  1.73062093e-02, -3.91322398e-01,\n",
       "         8.86405260e-01],\n",
       "       [-1.04200191e+00, -3.61894539e-01, -9.94658860e-01,\n",
       "        -3.77773152e-01, -1.60515091e+00, -5.73379003e-01,\n",
       "        -1.12815215e+00],\n",
       "       [-1.58289124e+00, -1.18898560e+00, -1.88144112e+00,\n",
       "        -1.89290612e+00, -1.60515091e+00, -1.13609942e+00,\n",
       "        -1.12815215e+00],\n",
       "       [-3.20816143e-01, -8.58149178e-01, -1.07876604e-01,\n",
       "        -8.82817474e-01, -1.06433187e+00,  1.71398019e-01,\n",
       "        -1.12815215e+00],\n",
       "       [-5.91260806e-01, -1.35440382e+00, -9.94658860e-01,\n",
       "        -1.89290612e+00, -1.60515091e+00, -2.11258485e+00,\n",
       "        -1.12815215e+00],\n",
       "       [-2.30667922e-01, -3.61894539e-01, -9.94658860e-01,\n",
       "        -8.82817474e-01, -1.60515091e+00, -1.54986443e+00,\n",
       "        -1.12815215e+00],\n",
       "       [-3.20816143e-01, -1.51982203e+00, -1.07876604e-01,\n",
       "        -8.82817474e-01,  1.09894429e+00, -4.57524800e-01,\n",
       "         8.86405260e-01],\n",
       "       [-1.49274302e+00, -1.35440382e+00, -1.88144112e+00,\n",
       "        -2.39795044e+00, -1.06433187e+00, -9.37492214e-01,\n",
       "        -1.12815215e+00],\n",
       "       [ 2.11318582e+00,  1.12686938e+00,  1.66568791e+00,\n",
       "         6.32315491e-01,  5.58125251e-01,  1.69405326e+00,\n",
       "         8.86405260e-01],\n",
       "       [-3.20816143e-01, -1.02356739e+00, -1.07876604e-01,\n",
       "        -8.82817474e-01, -5.23512832e-01, -8.87840412e-01,\n",
       "        -1.12815215e+00],\n",
       "       [ 4.90517846e-01, -6.92730965e-01,  7.78905651e-01,\n",
       "        -3.77773152e-01, -1.06433187e+00, -9.20941613e-01,\n",
       "         8.86405260e-01],\n",
       "       [ 3.10221404e-01, -6.92730965e-01, -1.07876604e-01,\n",
       "        -3.77773152e-01, -5.23512832e-01, -1.45056083e+00,\n",
       "        -1.12815215e+00],\n",
       "       [ 1.57229650e+00,  1.95396044e+00,  1.66568791e+00,\n",
       "         1.13735981e+00,  1.63976333e+00,  1.59474966e+00,\n",
       "         8.86405260e-01],\n",
       "       [ 3.10221404e-01,  4.65196526e-01,  1.66568791e+00,\n",
       "         1.64240413e+00,  1.63976333e+00,  1.03202924e+00,\n",
       "         8.86405260e-01],\n",
       "       [-4.10964364e-01, -3.61894539e-01, -9.94658860e-01,\n",
       "        -8.82817474e-01, -5.23512832e-01, -7.55435608e-01,\n",
       "        -1.12815215e+00],\n",
       "       [ 1.29924962e-01, -1.96476326e-01, -9.94658860e-01,\n",
       "         6.32315491e-01,  5.58125251e-01, -1.08644762e+00,\n",
       "         8.86405260e-01],\n",
       "       [-5.01112585e-01, -3.10581135e-02,  7.78905651e-01,\n",
       "         1.13735981e+00,  1.09894429e+00,  7.01017234e-01,\n",
       "         8.86405260e-01],\n",
       "       [ 3.97767408e-02,  0.00000000e+00, -9.94658860e-01,\n",
       "        -1.38786180e+00,  1.73062093e-02, -7.55435608e-01,\n",
       "        -1.12815215e+00],\n",
       "       [-1.13215013e+00, -5.27312752e-01, -1.07876604e-01,\n",
       "        -8.82817474e-01, -1.60515091e+00, -7.55435608e-01,\n",
       "        -1.12815215e+00],\n",
       "       [-4.10964364e-01, -5.27312752e-01, -1.07876604e-01,\n",
       "         1.27271169e-01,  5.58125251e-01, -8.05087410e-01,\n",
       "        -1.12815215e+00],\n",
       "       [ 6.70814288e-01,  6.30614739e-01, -1.07876604e-01,\n",
       "        -8.82817474e-01, -2.14596996e+00,  3.53454624e-01,\n",
       "         8.86405260e-01],\n",
       "       [ 1.39200006e+00,  7.96032952e-01, -1.88144112e+00,\n",
       "        -1.89290612e+00, -5.23512832e-01,  1.38296818e-01,\n",
       "         8.86405260e-01],\n",
       "       [-1.85333590e+00, -2.01607667e+00, -9.94658860e-01,\n",
       "        -3.77773152e-01, -1.60515091e+00, -1.71537044e+00,\n",
       "         8.86405260e-01],\n",
       "       [-4.10964364e-01, -6.92730965e-01, -1.07876604e-01,\n",
       "         1.27271169e-01,  5.58125251e-01,  3.36904023e-01,\n",
       "        -1.12815215e+00],\n",
       "       [ 1.48214828e+00,  9.61451165e-01,  1.66568791e+00,\n",
       "         6.32315491e-01,  5.58125251e-01,  1.16443405e+00,\n",
       "         8.86405260e-01],\n",
       "       [ 2.20073183e-01, -3.61894539e-01,  7.78905651e-01,\n",
       "         6.32315491e-01,  1.09894429e+00,  1.38296818e-01,\n",
       "         8.86405260e-01],\n",
       "       [ 1.12155539e+00,  6.30614739e-01,  7.78905651e-01,\n",
       "         1.13735981e+00,  1.09894429e+00,  9.98928043e-01,\n",
       "         8.86405260e-01],\n",
       "       [ 5.80666067e-01,  1.34360100e-01, -1.07876604e-01,\n",
       "         1.27271169e-01, -5.23512832e-01,  3.89932147e-02,\n",
       "        -1.12815215e+00],\n",
       "       [-1.04200191e+00, -8.58149178e-01, -9.94658860e-01,\n",
       "        -1.38786180e+00, -1.06433187e+00, -6.56132006e-01,\n",
       "        -1.12815215e+00],\n",
       "       [-5.03714802e-02, -6.92730965e-01, -1.07876604e-01,\n",
       "         1.27271169e-01, -1.60515091e+00, -1.48366203e+00,\n",
       "        -1.12815215e+00],\n",
       "       [-5.91260806e-01, -5.27312752e-01, -1.07876604e-01,\n",
       "        -1.38786180e+00,  1.73062093e-02, -3.41670596e-01,\n",
       "        -1.12815215e+00]])"
      ]
     },
     "execution_count": 92,
     "metadata": {},
     "output_type": "execute_result"
    }
   ],
   "source": [
    "x_test"
   ]
  },
  {
   "cell_type": "code",
   "execution_count": 93,
   "metadata": {},
   "outputs": [
    {
     "data": {
      "text/plain": [
       "289    0.79\n",
       "167    0.64\n",
       "371    0.89\n",
       "148    0.96\n",
       "391    0.71\n",
       "       ... \n",
       "106    0.87\n",
       "9      0.45\n",
       "323    0.62\n",
       "417    0.52\n",
       "238    0.70\n",
       "Name: Chance_of_Admit, Length: 125, dtype: float64"
      ]
     },
     "execution_count": 93,
     "metadata": {},
     "output_type": "execute_result"
    }
   ],
   "source": [
    "y_test"
   ]
  },
  {
   "cell_type": "markdown",
   "metadata": {},
   "source": [
    " in case 25% data is giving to testing dataset"
   ]
  },
  {
   "cell_type": "raw",
   "metadata": {},
   "source": [
    "we give dataset that we used for the training but that that is not correct approach. becoz my model has already learned a pattern from the dataset so through a score i will not able to get so if i am looking for a true score may be give unknown data set --> which model has not seen yet "
   ]
  },
  {
   "cell_type": "markdown",
   "metadata": {},
   "source": [
    "## R^2 \n",
    "calculate adj r^2"
   ]
  },
  {
   "cell_type": "code",
   "execution_count": 108,
   "metadata": {},
   "outputs": [],
   "source": [
    "# Function for ----> adj r^2\n",
    "def adj_r2(x,y):\n",
    "    r2 = lr2.score(x,y)    # change lr ,  lr2 were we train model\n",
    "    n = x.shape[0]\n",
    "    p = x.shape[1]\n",
    "    adjusted_r2 = 1-(1-r2)*(n-1)/(n-p-1)\n",
    "    return adjusted_r2"
   ]
  },
  {
   "cell_type": "code",
   "execution_count": 98,
   "metadata": {},
   "outputs": [
    {
     "data": {
      "text/plain": [
       "0.7325485738023716"
      ]
     },
     "execution_count": 98,
     "metadata": {},
     "output_type": "execute_result"
    }
   ],
   "source": [
    "adj_r2(x_test,y_test)"
   ]
  },
  {
   "cell_type": "code",
   "execution_count": 99,
   "metadata": {},
   "outputs": [],
   "source": [
    "# now change the randomness (100) for changing the accuracy\n",
    "x_train,x_test,y_train,y_test = train_test_split(arr,y,test_size= 0.25,random_state = 100)"
   ]
  },
  {
   "cell_type": "code",
   "execution_count": 101,
   "metadata": {},
   "outputs": [],
   "source": [
    "lr2 = LinearRegression()"
   ]
  },
  {
   "cell_type": "code",
   "execution_count": 102,
   "metadata": {},
   "outputs": [
    {
     "data": {
      "text/plain": [
       "LinearRegression(copy_X=True, fit_intercept=True, n_jobs=None, normalize=False)"
      ]
     },
     "execution_count": 102,
     "metadata": {},
     "output_type": "execute_result"
    }
   ],
   "source": [
    "lr2.fit(x_train,y_train)"
   ]
  },
  {
   "cell_type": "code",
   "execution_count": 103,
   "metadata": {},
   "outputs": [
    {
     "data": {
      "text/plain": [
       "0.8262844735686963"
      ]
     },
     "execution_count": 103,
     "metadata": {},
     "output_type": "execute_result"
    }
   ],
   "source": [
    "lr2.score(x_test,y_test)"
   ]
  },
  {
   "cell_type": "code",
   "execution_count": 104,
   "metadata": {},
   "outputs": [],
   "source": [
    "# now as we see my score is improve"
   ]
  },
  {
   "cell_type": "code",
   "execution_count": 109,
   "metadata": {},
   "outputs": [
    {
     "data": {
      "text/plain": [
       "0.8158912369446012"
      ]
     },
     "execution_count": 109,
     "metadata": {},
     "output_type": "execute_result"
    }
   ],
   "source": [
    "adj_r2(x_test,y_test)"
   ]
  },
  {
   "cell_type": "code",
   "execution_count": 110,
   "metadata": {},
   "outputs": [
    {
     "data": {
      "text/plain": [
       "array([0.015458  , 0.01908417, 0.00381077, 0.00315846, 0.01678637,\n",
       "       0.07622763, 0.01400522])"
      ]
     },
     "execution_count": 110,
     "metadata": {},
     "output_type": "execute_result"
    }
   ],
   "source": [
    "lr2.coef_"
   ]
  },
  {
   "cell_type": "code",
   "execution_count": 112,
   "metadata": {},
   "outputs": [
    {
     "data": {
      "text/plain": [
       "0.7181156002659718"
      ]
     },
     "execution_count": 112,
     "metadata": {},
     "output_type": "execute_result"
    }
   ],
   "source": [
    "lr2.intercept_"
   ]
  },
  {
   "cell_type": "markdown",
   "metadata": {},
   "source": [
    "## CV -- cross validation-> lasso, ridge, logistic"
   ]
  },
  {
   "cell_type": "markdown",
   "metadata": {},
   "source": [
    "### LassoCV"
   ]
  },
  {
   "cell_type": "code",
   "execution_count": 128,
   "metadata": {},
   "outputs": [
    {
     "data": {
      "text/plain": [
       "LassoCV(alphas=None, copy_X=True, cv=10, eps=0.001, fit_intercept=True,\n",
       "        max_iter=200000, n_alphas=100, n_jobs=None, normalize=True,\n",
       "        positive=False, precompute='auto', random_state=None,\n",
       "        selection='cyclic', tol=0.0001, verbose=False)"
      ]
     },
     "execution_count": 128,
     "metadata": {},
     "output_type": "execute_result"
    }
   ],
   "source": [
    "lassocv = LassoCV(cv= 10, max_iter=200000, normalize=True)  # iter -- max repetation\n",
    "lassocv.fit(x_train,y_train)"
   ]
  },
  {
   "cell_type": "code",
   "execution_count": 125,
   "metadata": {},
   "outputs": [
    {
     "data": {
      "text/plain": [
       "9.742054000449748e-06"
      ]
     },
     "execution_count": 125,
     "metadata": {},
     "output_type": "execute_result"
    }
   ],
   "source": [
    "lassocv.alpha_"
   ]
  },
  {
   "cell_type": "code",
   "execution_count": 126,
   "metadata": {},
   "outputs": [
    {
     "data": {
      "text/plain": [
       "Lasso(alpha=9.742054000449748e-06, copy_X=True, fit_intercept=True,\n",
       "      max_iter=1000, normalize=False, positive=False, precompute=False,\n",
       "      random_state=None, selection='cyclic', tol=0.0001, warm_start=False)"
      ]
     },
     "execution_count": 126,
     "metadata": {},
     "output_type": "execute_result"
    }
   ],
   "source": [
    "lasso = Lasso(alpha=lassocv.alpha_)\n",
    "lasso.fit(x_train,y_train)"
   ]
  },
  {
   "cell_type": "code",
   "execution_count": 127,
   "metadata": {},
   "outputs": [
    {
     "data": {
      "text/plain": [
       "0.8262977741326505"
      ]
     },
     "execution_count": 127,
     "metadata": {},
     "output_type": "execute_result"
    }
   ],
   "source": [
    " lasso.score(x_test,y_test)"
   ]
  },
  {
   "cell_type": "markdown",
   "metadata": {},
   "source": [
    " CV :-- it is technique to find out a best possible parameter by doing a random experiment\n",
    " \n",
    "let:-  cv=5 [it divide my entire dataset 5 set]\n",
    "in case first 4 set are -- training \n",
    "last set is for testing purpose\n",
    "every time keep data rotating again and again then out of that find out best possible parameter\n",
    "\n",
    "CV- best parameter finding / Cross validation\n",
    "cv -> divide all chunk into dataset then it allot all the set (n-1) to \"training\" and nth or last one is for \"testing\" "
   ]
  },
  {
   "cell_type": "code",
   "execution_count": 129,
   "metadata": {},
   "outputs": [
    {
     "data": {
      "text/plain": [
       "LassoCV(alphas=None, copy_X=True, cv=5, eps=0.001, fit_intercept=True,\n",
       "        max_iter=200000, n_alphas=100, n_jobs=None, normalize=True,\n",
       "        positive=False, precompute='auto', random_state=None,\n",
       "        selection='cyclic', tol=0.0001, verbose=False)"
      ]
     },
     "execution_count": 129,
     "metadata": {},
     "output_type": "execute_result"
    }
   ],
   "source": [
    "lassocv = LassoCV(cv= 5, max_iter=200000, normalize=True)  # iter -- max repetation\n",
    "lassocv.fit(x_train,y_train)"
   ]
  },
  {
   "cell_type": "code",
   "execution_count": 130,
   "metadata": {},
   "outputs": [
    {
     "data": {
      "text/plain": [
       "2.7745719225519405e-05"
      ]
     },
     "execution_count": 130,
     "metadata": {},
     "output_type": "execute_result"
    }
   ],
   "source": [
    "lassocv.alpha_"
   ]
  },
  {
   "cell_type": "code",
   "execution_count": 133,
   "metadata": {},
   "outputs": [
    {
     "data": {
      "text/plain": [
       "Lasso(alpha=2.7745719225519405e-05, copy_X=True, fit_intercept=True,\n",
       "      max_iter=1000, normalize=False, positive=False, precompute=False,\n",
       "      random_state=None, selection='cyclic', tol=0.0001, warm_start=False)"
      ]
     },
     "execution_count": 133,
     "metadata": {},
     "output_type": "execute_result"
    }
   ],
   "source": [
    "lasso1 = Lasso(alpha=lassocv.alpha_)\n",
    "lasso1.fit(x_train,y_train)"
   ]
  },
  {
   "cell_type": "code",
   "execution_count": 134,
   "metadata": {},
   "outputs": [
    {
     "data": {
      "text/plain": [
       "0.8263217068233789"
      ]
     },
     "execution_count": 134,
     "metadata": {},
     "output_type": "execute_result"
    }
   ],
   "source": [
    " lasso1.score(x_test,y_test)"
   ]
  },
  {
   "cell_type": "markdown",
   "metadata": {},
   "source": [
    "## Ridge Regression"
   ]
  },
  {
   "cell_type": "code",
   "execution_count": 151,
   "metadata": {},
   "outputs": [
    {
     "data": {
      "text/plain": [
       "RidgeCV(alphas=array([ 0.1,  1. , 10. ]), cv=10, fit_intercept=True,\n",
       "        gcv_mode=None, normalize=True, scoring=None, store_cv_values=False)"
      ]
     },
     "execution_count": 151,
     "metadata": {},
     "output_type": "execute_result"
    }
   ],
   "source": [
    "ridgecv = RidgeCV(alphas=(0.1,1.0,10.0),cv=10,normalize=True)\n",
    "ridgecv.fit(x_train, y_train)"
   ]
  },
  {
   "cell_type": "code",
   "execution_count": 152,
   "metadata": {},
   "outputs": [
    {
     "data": {
      "text/plain": [
       "0.1"
      ]
     },
     "execution_count": 152,
     "metadata": {},
     "output_type": "execute_result"
    }
   ],
   "source": [
    "ridgecv.alpha_"
   ]
  },
  {
   "cell_type": "markdown",
   "metadata": {},
   "source": [
    "Always try to give \"wider range\" of \"alpha\" \n",
    "\n",
    "this is hyper parameter\n",
    "we try to select best possible alpha\n",
    "so we use----> [\"numpy.random.uniform\"] ( rand-> uniform)"
   ]
  },
  {
   "cell_type": "code",
   "execution_count": 166,
   "metadata": {},
   "outputs": [
    {
     "data": {
      "text/plain": [
       "RidgeCV(alphas=array([4.62568761e+00, 8.39072331e+00, 5.01084893e+00, 8.45727323e-01,\n",
       "       7.49405966e+00, 7.00203480e+00, 1.84014972e+00, 5.44930305e+00,\n",
       "       9.30075712e+00, 5.02604723e+00, 5.38274690e+00, 5.13239533e+00,\n",
       "       6.66365367e+00, 1.67581420e+00, 5.77967750e+00, 3.53645179e+00,\n",
       "       6.09638930e+00, 2.68560969e+00, 7.70330887e+00, 4.37969084e+00,\n",
       "       7.69201268e+00, 5.10518679e+0...\n",
       "       2.56577481e+00, 6.84160663e+00, 9.21870218e+00, 2.77572293e+00,\n",
       "       9.72017494e+00, 7.25568424e-01, 4.20289665e+00, 5.22033466e+00,\n",
       "       7.30670109e+00, 5.21248798e-01, 9.90326726e+00, 5.80713722e+00,\n",
       "       1.62544456e+00, 9.59512269e+00, 3.35833126e+00, 1.00018495e+00,\n",
       "       4.58022003e+00, 7.36173592e-03]),\n",
       "        cv=10, fit_intercept=True, gcv_mode=None, normalize=True, scoring=None,\n",
       "        store_cv_values=False)"
      ]
     },
     "execution_count": 166,
     "metadata": {},
     "output_type": "execute_result"
    }
   ],
   "source": [
    "ridgecv2= RidgeCV(alphas = np.random.uniform(0,10,50),cv=10, normalize = True)\n",
    "ridgecv2.fit(x_train ,y_train)"
   ]
  },
  {
   "cell_type": "code",
   "execution_count": 167,
   "metadata": {},
   "outputs": [
    {
     "data": {
      "text/plain": [
       "0.0073617359242539315"
      ]
     },
     "execution_count": 167,
     "metadata": {},
     "output_type": "execute_result"
    }
   ],
   "source": [
    "ridgecv2.alpha_"
   ]
  },
  {
   "cell_type": "code",
   "execution_count": 161,
   "metadata": {},
   "outputs": [
    {
     "data": {
      "text/plain": [
       "array([9.36051401, 6.05667249, 6.1164797 , 5.41996624, 0.79315253,\n",
       "       2.69779119, 6.12381183, 9.08866107, 6.82540341, 7.55091811,\n",
       "       5.5784663 , 5.64358502, 2.8905204 , 6.88348029, 6.29804113,\n",
       "       7.42802961, 5.14470066, 5.88399115, 0.56045869, 1.70881507,\n",
       "       5.60957308, 5.20983875, 3.89625096, 6.75002079, 5.26536808,\n",
       "       8.47561612, 4.41903441, 2.17090547, 9.74405901, 7.09508228,\n",
       "       0.66732591, 3.41737655, 9.24911245, 8.31007083, 4.37901907,\n",
       "       4.57178811, 4.4020981 , 2.96111569, 6.62542135, 6.07809679,\n",
       "       6.95203547, 9.56258841, 1.33547009, 0.84545212, 8.73094808,\n",
       "       9.32468341, 1.2821428 , 3.51539647, 7.87837826, 5.30261607])"
      ]
     },
     "execution_count": 161,
     "metadata": {},
     "output_type": "execute_result"
    }
   ],
   "source": [
    "np.random.uniform(0,10,50)"
   ]
  },
  {
   "cell_type": "code",
   "execution_count": 170,
   "metadata": {},
   "outputs": [
    {
     "data": {
      "text/plain": [
       "Ridge(alpha=0.0073617359242539315, copy_X=True, fit_intercept=True,\n",
       "      max_iter=None, normalize=False, random_state=None, solver='auto',\n",
       "      tol=0.001)"
      ]
     },
     "execution_count": 170,
     "metadata": {},
     "output_type": "execute_result"
    }
   ],
   "source": [
    "ridgelr = Ridge(alpha = ridgecv2.alpha_)\n",
    "ridgelr.fit(x_train , y_train)"
   ]
  },
  {
   "cell_type": "code",
   "execution_count": 171,
   "metadata": {},
   "outputs": [
    {
     "data": {
      "text/plain": [
       "0.8262869853653665"
      ]
     },
     "execution_count": 171,
     "metadata": {},
     "output_type": "execute_result"
    }
   ],
   "source": [
    "ridgelr.score(x_test , y_test)"
   ]
  },
  {
   "cell_type": "markdown",
   "metadata": {},
   "source": [
    "## ElasticNetCV"
   ]
  },
  {
   "cell_type": "code",
   "execution_count": 173,
   "metadata": {},
   "outputs": [
    {
     "data": {
      "text/plain": [
       "ElasticNetCV(alphas=None, copy_X=True, cv=10, eps=0.001, fit_intercept=True,\n",
       "             l1_ratio=0.5, max_iter=1000, n_alphas=100, n_jobs=None,\n",
       "             normalize=False, positive=False, precompute='auto',\n",
       "             random_state=None, selection='cyclic', tol=0.0001, verbose=0)"
      ]
     },
     "execution_count": 173,
     "metadata": {},
     "output_type": "execute_result"
    }
   ],
   "source": [
    "elastic = ElasticNetCV(alphas= None , cv=10)\n",
    "elastic.fit(x_train,y_train)"
   ]
  },
  {
   "cell_type": "code",
   "execution_count": 174,
   "metadata": {},
   "outputs": [
    {
     "data": {
      "text/plain": [
       "0.00032049828688228085"
      ]
     },
     "execution_count": 174,
     "metadata": {},
     "output_type": "execute_result"
    }
   ],
   "source": [
    "elastic.alpha_"
   ]
  },
  {
   "cell_type": "code",
   "execution_count": 175,
   "metadata": {},
   "outputs": [
    {
     "data": {
      "text/plain": [
       "0.5"
      ]
     },
     "execution_count": 175,
     "metadata": {},
     "output_type": "execute_result"
    }
   ],
   "source": [
    "elastic.l1_ratio    "
   ]
  },
  {
   "cell_type": "code",
   "execution_count": 177,
   "metadata": {},
   "outputs": [],
   "source": [
    "elastic_lr = ElasticNet(alpha= elastic.alpha_, l1_ratio=elastic.l1_ratio)"
   ]
  },
  {
   "cell_type": "code",
   "execution_count": 178,
   "metadata": {},
   "outputs": [
    {
     "data": {
      "text/plain": [
       "ElasticNet(alpha=0.00032049828688228085, copy_X=True, fit_intercept=True,\n",
       "           l1_ratio=0.5, max_iter=1000, normalize=False, positive=False,\n",
       "           precompute=False, random_state=None, selection='cyclic', tol=0.0001,\n",
       "           warm_start=False)"
      ]
     },
     "execution_count": 178,
     "metadata": {},
     "output_type": "execute_result"
    }
   ],
   "source": [
    "elastic_lr.fit(x_train ,y_train)"
   ]
  },
  {
   "cell_type": "code",
   "execution_count": 179,
   "metadata": {},
   "outputs": [
    {
     "data": {
      "text/plain": [
       "0.8265118379982932"
      ]
     },
     "execution_count": 179,
     "metadata": {},
     "output_type": "execute_result"
    }
   ],
   "source": [
    "elastic_lr.score(x_test,y_test)"
   ]
  },
  {
   "cell_type": "code",
   "execution_count": null,
   "metadata": {},
   "outputs": [],
   "source": []
  }
 ],
 "metadata": {
  "kernelspec": {
   "display_name": "Python 3",
   "language": "python",
   "name": "python3"
  },
  "language_info": {
   "codemirror_mode": {
    "name": "ipython",
    "version": 3
   },
   "file_extension": ".py",
   "mimetype": "text/x-python",
   "name": "python",
   "nbconvert_exporter": "python",
   "pygments_lexer": "ipython3",
   "version": "3.6.10"
  }
 },
 "nbformat": 4,
 "nbformat_minor": 4
}
